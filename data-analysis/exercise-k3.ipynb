{
 "cells": [
  {
   "cell_type": "code",
   "execution_count": null,
   "metadata": {
    "tags": []
   },
   "outputs": [],
   "source": [
    "# !pip install requests                                 "
   ]
  },
  {
   "cell_type": "code",
   "execution_count": null,
   "metadata": {},
   "outputs": [],
   "source": [
    "import requests\n",
    "import urllib\n",
    "import json"
   ]
  },
  {
   "cell_type": "code",
   "execution_count": 23,
   "metadata": {
    "tags": []
   },
   "outputs": [],
   "source": [
    "api_key = '538f712bea7ca4c282b2ff085dd49cb5'\n",
    "api_url = 'https://dapi.kakao.com/v3/search/book'\n",
    "params = {\"query\" : \"파이썬\"}\n",
    "query_string = urllib.parse.urlencode(params)\n",
    "# print(query_string)\n",
    "api_url = api_url + \"?\" + query_string\n",
    "#print(api_url)\n",
    "session = requests.Session() # 서버에 연결해서 요청을 보내는 객체\n",
    "session.headers.update( {\"Authorization\": \"KakaoAK \" + api_key } ) \n",
    "\n",
    "r = session.get(api_url)\n",
    "r.encoding = 'utf-8'\n",
    "# print(r.text)\n",
    "books = json.loads(r.text)\n",
    "books = books['documents']"
   ]
  },
  {
   "cell_type": "code",
   "execution_count": 24,
   "metadata": {},
   "outputs": [],
   "source": [
    "import numpy as np\n",
    "import pandas as pd\n",
    "import matplotlib.pyplot as plt"
   ]
  },
  {
   "cell_type": "code",
   "execution_count": 25,
   "metadata": {},
   "outputs": [
    {
     "output_type": "execute_result",
     "data": {
      "text/plain": "            authors                                           contents  \\\n0         [모리 요시나오]  만화처럼 빨려 들어가는 비주얼한 프로그래밍 입문서 1학년 시리즈! 염소 박사님, 다...   \n1             [박응용]  《Do it! 점프 투 파이썬》은 지난 10년간 온라인 독자들의 질문 댓글에 답변하...   \n2             [이강성]                                                      \n3             [천인국]  『두근두근 파이썬』은 프로그래밍을 처음 시작하는 학습자도 쉽게 따라올 수 있도록 변...   \n4  [Y Daniel Liang]  이 책은 누구나 쉽게 따라할 수 있는 파이썬 프로그래밍 언어에 기반하고 있기 때문에...   \n5              [최용]  『파이썬(Python) 3』은 쉽고 강력한 프로그래밍 언어인 파이썬에 대한 책이다....   \n6             [한혁수]  『파이썬』은 비전공자들을 위한 파이썬 프로그래밍 교재다. 프로그래밍의 기본 개념을 ...   \n7         [시바타 아츠시]  지금 가장 뜨거운 프로그래밍 언어, 파이썬!  이 책은 객체 지향 스크립트 언어인 ...   \n8          [웨스 맥키니]  『파이썬 라이브러리를 활용한 데이터 분석』은 NumPy, pandas, matplo...   \n9             [박병기]  『다양한 예제로 배우는 완전 쉬운 파이썬(Python)』은 파이썬을 처음 접하는 사...   \n\n                        datetime                      isbn  price publisher  \\\n0  2018-12-18T00:00:00.000+09:00  8931555687 9788931555684  17000       성안당   \n1  2016-03-03T00:00:00.000+09:00  8997390910 9788997390915  18800   이지스퍼블리싱   \n2  2005-08-29T00:00:00.000+09:00  8989345774 9788989345770  35000       프리렉   \n3  2017-01-16T00:00:00.000+09:00  8970508937 9788970508931  24000     생능출판사   \n4  2018-03-02T00:00:00.000+09:00  8920028893 9788920028892  35000     에피스테메   \n5  2014-02-12T00:00:00.000+09:00  1185578005 9791185578002  25000    인피니티북스   \n6  2016-08-31T00:00:00.000+09:00  8970508651 9788970508658  23000     생능출판사   \n7  2018-05-30T00:00:00.000+09:00  8970938982 9788970938981  23000       광문각   \n8  2013-10-01T00:00:00.000+09:00  8968480478 9788968480478  33000     한빛미디어   \n9  2017-01-30T00:00:00.000+09:00  8998955954 9788998955953  23000       아티오   \n\n   sale_price status                                          thumbnail  \\\n0       15300   정상판매  https://search1.kakaocdn.net/thumb/R120x174.q8...   \n1       16920   정상판매  https://search1.kakaocdn.net/thumb/R120x174.q8...   \n2          -1         https://search1.kakaocdn.net/thumb/R120x174.q8...   \n3       21600   정상판매  https://search1.kakaocdn.net/thumb/R120x174.q8...   \n4       31500   정상판매  https://search1.kakaocdn.net/thumb/R120x174.q8...   \n5       22500   정상판매  https://search1.kakaocdn.net/thumb/R120x174.q8...   \n6       20700   정상판매  https://search1.kakaocdn.net/thumb/R120x174.q8...   \n7       23000   정상판매  https://search1.kakaocdn.net/thumb/R120x174.q8...   \n8       29700   정상판매  https://search1.kakaocdn.net/thumb/R120x174.q8...   \n9       20700   정상판매  https://search1.kakaocdn.net/thumb/R120x174.q8...   \n\n                            title translators  \\\n0                파이썬(Python): 1학년       [이영란]   \n1                 Do it! 점프 투 파이썬          []   \n2            파이썬(열혈강의)(개정판 VER.2)          []   \n3                        두근두근 파이썬          []   \n4                             파이썬       [길준민]   \n5           파이썬(Python) 3(예제 중심의)          []   \n6              파이썬(창의적 프로그래밍을 위한)          []   \n7                   파이썬(알기쉬운)(4판)       [이상구]   \n8    파이썬 라이브러리를 활용한 데이터 분석(수정개정판)       [김영근]   \n9  파이썬(Python)(다양한 예제로 배우는 완전 쉬운)          []   \n\n                                                 url  \n0  https://search.daum.net/search?w=bookpage&book...  \n1  https://search.daum.net/search?w=bookpage&book...  \n2  https://search.daum.net/search?w=bookpage&book...  \n3  https://search.daum.net/search?w=bookpage&book...  \n4  https://search.daum.net/search?w=bookpage&book...  \n5  https://search.daum.net/search?w=bookpage&book...  \n6  https://search.daum.net/search?w=bookpage&book...  \n7  https://search.daum.net/search?w=bookpage&book...  \n8  https://search.daum.net/search?w=bookpage&book...  \n9  https://search.daum.net/search?w=bookpage&book...  ",
      "text/html": "<div>\n<style scoped>\n    .dataframe tbody tr th:only-of-type {\n        vertical-align: middle;\n    }\n\n    .dataframe tbody tr th {\n        vertical-align: top;\n    }\n\n    .dataframe thead th {\n        text-align: right;\n    }\n</style>\n<table border=\"1\" class=\"dataframe\">\n  <thead>\n    <tr style=\"text-align: right;\">\n      <th></th>\n      <th>authors</th>\n      <th>contents</th>\n      <th>datetime</th>\n      <th>isbn</th>\n      <th>price</th>\n      <th>publisher</th>\n      <th>sale_price</th>\n      <th>status</th>\n      <th>thumbnail</th>\n      <th>title</th>\n      <th>translators</th>\n      <th>url</th>\n    </tr>\n  </thead>\n  <tbody>\n    <tr>\n      <th>0</th>\n      <td>[모리 요시나오]</td>\n      <td>만화처럼 빨려 들어가는 비주얼한 프로그래밍 입문서 1학년 시리즈! 염소 박사님, 다...</td>\n      <td>2018-12-18T00:00:00.000+09:00</td>\n      <td>8931555687 9788931555684</td>\n      <td>17000</td>\n      <td>성안당</td>\n      <td>15300</td>\n      <td>정상판매</td>\n      <td>https://search1.kakaocdn.net/thumb/R120x174.q8...</td>\n      <td>파이썬(Python): 1학년</td>\n      <td>[이영란]</td>\n      <td>https://search.daum.net/search?w=bookpage&amp;book...</td>\n    </tr>\n    <tr>\n      <th>1</th>\n      <td>[박응용]</td>\n      <td>《Do it! 점프 투 파이썬》은 지난 10년간 온라인 독자들의 질문 댓글에 답변하...</td>\n      <td>2016-03-03T00:00:00.000+09:00</td>\n      <td>8997390910 9788997390915</td>\n      <td>18800</td>\n      <td>이지스퍼블리싱</td>\n      <td>16920</td>\n      <td>정상판매</td>\n      <td>https://search1.kakaocdn.net/thumb/R120x174.q8...</td>\n      <td>Do it! 점프 투 파이썬</td>\n      <td>[]</td>\n      <td>https://search.daum.net/search?w=bookpage&amp;book...</td>\n    </tr>\n    <tr>\n      <th>2</th>\n      <td>[이강성]</td>\n      <td></td>\n      <td>2005-08-29T00:00:00.000+09:00</td>\n      <td>8989345774 9788989345770</td>\n      <td>35000</td>\n      <td>프리렉</td>\n      <td>-1</td>\n      <td></td>\n      <td>https://search1.kakaocdn.net/thumb/R120x174.q8...</td>\n      <td>파이썬(열혈강의)(개정판 VER.2)</td>\n      <td>[]</td>\n      <td>https://search.daum.net/search?w=bookpage&amp;book...</td>\n    </tr>\n    <tr>\n      <th>3</th>\n      <td>[천인국]</td>\n      <td>『두근두근 파이썬』은 프로그래밍을 처음 시작하는 학습자도 쉽게 따라올 수 있도록 변...</td>\n      <td>2017-01-16T00:00:00.000+09:00</td>\n      <td>8970508937 9788970508931</td>\n      <td>24000</td>\n      <td>생능출판사</td>\n      <td>21600</td>\n      <td>정상판매</td>\n      <td>https://search1.kakaocdn.net/thumb/R120x174.q8...</td>\n      <td>두근두근 파이썬</td>\n      <td>[]</td>\n      <td>https://search.daum.net/search?w=bookpage&amp;book...</td>\n    </tr>\n    <tr>\n      <th>4</th>\n      <td>[Y Daniel Liang]</td>\n      <td>이 책은 누구나 쉽게 따라할 수 있는 파이썬 프로그래밍 언어에 기반하고 있기 때문에...</td>\n      <td>2018-03-02T00:00:00.000+09:00</td>\n      <td>8920028893 9788920028892</td>\n      <td>35000</td>\n      <td>에피스테메</td>\n      <td>31500</td>\n      <td>정상판매</td>\n      <td>https://search1.kakaocdn.net/thumb/R120x174.q8...</td>\n      <td>파이썬</td>\n      <td>[길준민]</td>\n      <td>https://search.daum.net/search?w=bookpage&amp;book...</td>\n    </tr>\n    <tr>\n      <th>5</th>\n      <td>[최용]</td>\n      <td>『파이썬(Python) 3』은 쉽고 강력한 프로그래밍 언어인 파이썬에 대한 책이다....</td>\n      <td>2014-02-12T00:00:00.000+09:00</td>\n      <td>1185578005 9791185578002</td>\n      <td>25000</td>\n      <td>인피니티북스</td>\n      <td>22500</td>\n      <td>정상판매</td>\n      <td>https://search1.kakaocdn.net/thumb/R120x174.q8...</td>\n      <td>파이썬(Python) 3(예제 중심의)</td>\n      <td>[]</td>\n      <td>https://search.daum.net/search?w=bookpage&amp;book...</td>\n    </tr>\n    <tr>\n      <th>6</th>\n      <td>[한혁수]</td>\n      <td>『파이썬』은 비전공자들을 위한 파이썬 프로그래밍 교재다. 프로그래밍의 기본 개념을 ...</td>\n      <td>2016-08-31T00:00:00.000+09:00</td>\n      <td>8970508651 9788970508658</td>\n      <td>23000</td>\n      <td>생능출판사</td>\n      <td>20700</td>\n      <td>정상판매</td>\n      <td>https://search1.kakaocdn.net/thumb/R120x174.q8...</td>\n      <td>파이썬(창의적 프로그래밍을 위한)</td>\n      <td>[]</td>\n      <td>https://search.daum.net/search?w=bookpage&amp;book...</td>\n    </tr>\n    <tr>\n      <th>7</th>\n      <td>[시바타 아츠시]</td>\n      <td>지금 가장 뜨거운 프로그래밍 언어, 파이썬!  이 책은 객체 지향 스크립트 언어인 ...</td>\n      <td>2018-05-30T00:00:00.000+09:00</td>\n      <td>8970938982 9788970938981</td>\n      <td>23000</td>\n      <td>광문각</td>\n      <td>23000</td>\n      <td>정상판매</td>\n      <td>https://search1.kakaocdn.net/thumb/R120x174.q8...</td>\n      <td>파이썬(알기쉬운)(4판)</td>\n      <td>[이상구]</td>\n      <td>https://search.daum.net/search?w=bookpage&amp;book...</td>\n    </tr>\n    <tr>\n      <th>8</th>\n      <td>[웨스 맥키니]</td>\n      <td>『파이썬 라이브러리를 활용한 데이터 분석』은 NumPy, pandas, matplo...</td>\n      <td>2013-10-01T00:00:00.000+09:00</td>\n      <td>8968480478 9788968480478</td>\n      <td>33000</td>\n      <td>한빛미디어</td>\n      <td>29700</td>\n      <td>정상판매</td>\n      <td>https://search1.kakaocdn.net/thumb/R120x174.q8...</td>\n      <td>파이썬 라이브러리를 활용한 데이터 분석(수정개정판)</td>\n      <td>[김영근]</td>\n      <td>https://search.daum.net/search?w=bookpage&amp;book...</td>\n    </tr>\n    <tr>\n      <th>9</th>\n      <td>[박병기]</td>\n      <td>『다양한 예제로 배우는 완전 쉬운 파이썬(Python)』은 파이썬을 처음 접하는 사...</td>\n      <td>2017-01-30T00:00:00.000+09:00</td>\n      <td>8998955954 9788998955953</td>\n      <td>23000</td>\n      <td>아티오</td>\n      <td>20700</td>\n      <td>정상판매</td>\n      <td>https://search1.kakaocdn.net/thumb/R120x174.q8...</td>\n      <td>파이썬(Python)(다양한 예제로 배우는 완전 쉬운)</td>\n      <td>[]</td>\n      <td>https://search.daum.net/search?w=bookpage&amp;book...</td>\n    </tr>\n  </tbody>\n</table>\n</div>"
     },
     "metadata": {},
     "execution_count": 25
    }
   ],
   "source": [
    "pd.DataFrame(books)"
   ]
  },
  {
   "cell_type": "code",
   "execution_count": null,
   "metadata": {},
   "outputs": [],
   "source": []
  }
 ],
 "metadata": {
  "language_info": {
   "codemirror_mode": {
    "name": "ipython",
    "version": 3
   },
   "file_extension": ".py",
   "mimetype": "text/x-python",
   "name": "python",
   "nbconvert_exporter": "python",
   "pygments_lexer": "ipython3",
   "version": "3.6.10-final"
  },
  "orig_nbformat": 2,
  "kernelspec": {
   "name": "python361064bithoseoconda78849c8c42504bfc91e9e5131e728d2c",
   "display_name": "Python 3.6.10 64-bit ('hoseo': conda)"
  }
 },
 "nbformat": 4,
 "nbformat_minor": 2
}