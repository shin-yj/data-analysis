{
 "cells": [
  {
   "cell_type": "code",
   "execution_count": 2,
   "metadata": {},
   "outputs": [],
   "source": [
    "# !pip install cx_Oracle"
   ]
  },
  {
   "cell_type": "code",
   "execution_count": 3,
   "metadata": {},
   "outputs": [],
   "source": [
    "import cx_Oracle"
   ]
  },
  {
   "cell_type": "code",
   "execution_count": 7,
   "metadata": {},
   "outputs": [],
   "source": [
    "connection = cx_Oracle.connect(\"hr\", \"hoseo\", \"localhost:1521/xe\") # uuser-name, 비번, 서버 주소(위치)"
   ]
  },
  {
   "cell_type": "code",
   "execution_count": 8,
   "metadata": {},
   "outputs": [],
   "source": [
    "cursor = connection.cursor() # cursor : 명령 처리기"
   ]
  },
  {
   "cell_type": "code",
   "execution_count": 9,
   "metadata": {},
   "outputs": [
    {
     "data": {
      "text/plain": [
       "<cx_Oracle.Cursor on <cx_Oracle.Connection to hr@localhost:1521/xe>>"
      ]
     },
     "execution_count": 9,
     "metadata": {},
     "output_type": "execute_result"
    }
   ],
   "source": [
    "cursor.execute(\"SELECT * FROM DEPARTMENTS\") # sqldeveloper 아니더라도 파이선으로 sql문 실행하겠다! # SQL 실행 + 결과를 내부에 저장"
   ]
  },
  {
   "cell_type": "code",
   "execution_count": 10,
   "metadata": {},
   "outputs": [
    {
     "name": "stdout",
     "output_type": "stream",
     "text": [
      "[10][Administration][200][1700]\n",
      "[20][Marketing][201][1800]\n",
      "[30][Purchasing][114][1700]\n",
      "[40][Human Resources][203][2400]\n",
      "[50][Shipping][121][1500]\n",
      "[60][IT][103][1400]\n",
      "[70][Public Relations][204][2700]\n",
      "[80][Sales][145][2500]\n",
      "[90][Executive][100][1700]\n",
      "[100][Finance][108][1700]\n",
      "[110][Accounting][205][1700]\n",
      "[120][Treasury][None][1700]\n",
      "[130][Corporate Tax][None][1700]\n",
      "[140][Control And Credit][None][1700]\n",
      "[150][Shareholder Services][None][1700]\n",
      "[160][Benefits][None][1700]\n",
      "[170][Manufacturing][None][1700]\n",
      "[180][Construction][None][1700]\n",
      "[190][Contracting][None][1700]\n",
      "[200][Operations][None][1700]\n",
      "[210][IT Support][None][1700]\n",
      "[220][NOC][None][1700]\n",
      "[230][IT Helpdesk][None][1700]\n",
      "[240][Government Sales][None][1700]\n",
      "[250][Retail Sales][None][1700]\n",
      "[260][Recruiting][None][1700]\n",
      "[270][Payroll][None][1700]\n"
     ]
    }
   ],
   "source": [
    "for did, dname, mid, lid in cursor:\n",
    "    print(\"[{0}][{1}][{2}][{3}]\".format(did, dname, mid, lid))"
   ]
  },
  {
   "cell_type": "code",
   "execution_count": 11,
   "metadata": {},
   "outputs": [],
   "source": [
    "cursor.close()\n",
    "connection.close() # 연결 종료"
   ]
  },
  {
   "cell_type": "code",
   "execution_count": 13,
   "metadata": {},
   "outputs": [],
   "source": [
    "import pandas as pd"
   ]
  },
  {
   "cell_type": "code",
   "execution_count": 12,
   "metadata": {},
   "outputs": [],
   "source": [
    "connection = cx_Oracle.connect(\"hr\", \"hoseo\", \"localhost:1521/xe\") # localhost대신 127.0.0.1로 써두 된당"
   ]
  },
  {
   "cell_type": "code",
   "execution_count": 14,
   "metadata": {},
   "outputs": [],
   "source": [
    "departments = pd.read_sql('SELECT * FROM DEPARTMENTS', connection)"
   ]
  },
  {
   "cell_type": "code",
   "execution_count": 15,
   "metadata": {},
   "outputs": [
    {
     "data": {
      "text/html": [
       "<div>\n",
       "<style scoped>\n",
       "    .dataframe tbody tr th:only-of-type {\n",
       "        vertical-align: middle;\n",
       "    }\n",
       "\n",
       "    .dataframe tbody tr th {\n",
       "        vertical-align: top;\n",
       "    }\n",
       "\n",
       "    .dataframe thead th {\n",
       "        text-align: right;\n",
       "    }\n",
       "</style>\n",
       "<table border=\"1\" class=\"dataframe\">\n",
       "  <thead>\n",
       "    <tr style=\"text-align: right;\">\n",
       "      <th></th>\n",
       "      <th>DEPARTMENT_ID</th>\n",
       "      <th>DEPARTMENT_NAME</th>\n",
       "      <th>MANAGER_ID</th>\n",
       "      <th>LOCATION_ID</th>\n",
       "    </tr>\n",
       "  </thead>\n",
       "  <tbody>\n",
       "    <tr>\n",
       "      <th>0</th>\n",
       "      <td>10</td>\n",
       "      <td>Administration</td>\n",
       "      <td>200.0</td>\n",
       "      <td>1700</td>\n",
       "    </tr>\n",
       "    <tr>\n",
       "      <th>1</th>\n",
       "      <td>20</td>\n",
       "      <td>Marketing</td>\n",
       "      <td>201.0</td>\n",
       "      <td>1800</td>\n",
       "    </tr>\n",
       "    <tr>\n",
       "      <th>2</th>\n",
       "      <td>30</td>\n",
       "      <td>Purchasing</td>\n",
       "      <td>114.0</td>\n",
       "      <td>1700</td>\n",
       "    </tr>\n",
       "    <tr>\n",
       "      <th>3</th>\n",
       "      <td>40</td>\n",
       "      <td>Human Resources</td>\n",
       "      <td>203.0</td>\n",
       "      <td>2400</td>\n",
       "    </tr>\n",
       "    <tr>\n",
       "      <th>4</th>\n",
       "      <td>50</td>\n",
       "      <td>Shipping</td>\n",
       "      <td>121.0</td>\n",
       "      <td>1500</td>\n",
       "    </tr>\n",
       "    <tr>\n",
       "      <th>5</th>\n",
       "      <td>60</td>\n",
       "      <td>IT</td>\n",
       "      <td>103.0</td>\n",
       "      <td>1400</td>\n",
       "    </tr>\n",
       "    <tr>\n",
       "      <th>6</th>\n",
       "      <td>70</td>\n",
       "      <td>Public Relations</td>\n",
       "      <td>204.0</td>\n",
       "      <td>2700</td>\n",
       "    </tr>\n",
       "    <tr>\n",
       "      <th>7</th>\n",
       "      <td>80</td>\n",
       "      <td>Sales</td>\n",
       "      <td>145.0</td>\n",
       "      <td>2500</td>\n",
       "    </tr>\n",
       "    <tr>\n",
       "      <th>8</th>\n",
       "      <td>90</td>\n",
       "      <td>Executive</td>\n",
       "      <td>100.0</td>\n",
       "      <td>1700</td>\n",
       "    </tr>\n",
       "    <tr>\n",
       "      <th>9</th>\n",
       "      <td>100</td>\n",
       "      <td>Finance</td>\n",
       "      <td>108.0</td>\n",
       "      <td>1700</td>\n",
       "    </tr>\n",
       "    <tr>\n",
       "      <th>10</th>\n",
       "      <td>110</td>\n",
       "      <td>Accounting</td>\n",
       "      <td>205.0</td>\n",
       "      <td>1700</td>\n",
       "    </tr>\n",
       "    <tr>\n",
       "      <th>11</th>\n",
       "      <td>120</td>\n",
       "      <td>Treasury</td>\n",
       "      <td>NaN</td>\n",
       "      <td>1700</td>\n",
       "    </tr>\n",
       "    <tr>\n",
       "      <th>12</th>\n",
       "      <td>130</td>\n",
       "      <td>Corporate Tax</td>\n",
       "      <td>NaN</td>\n",
       "      <td>1700</td>\n",
       "    </tr>\n",
       "    <tr>\n",
       "      <th>13</th>\n",
       "      <td>140</td>\n",
       "      <td>Control And Credit</td>\n",
       "      <td>NaN</td>\n",
       "      <td>1700</td>\n",
       "    </tr>\n",
       "    <tr>\n",
       "      <th>14</th>\n",
       "      <td>150</td>\n",
       "      <td>Shareholder Services</td>\n",
       "      <td>NaN</td>\n",
       "      <td>1700</td>\n",
       "    </tr>\n",
       "    <tr>\n",
       "      <th>15</th>\n",
       "      <td>160</td>\n",
       "      <td>Benefits</td>\n",
       "      <td>NaN</td>\n",
       "      <td>1700</td>\n",
       "    </tr>\n",
       "    <tr>\n",
       "      <th>16</th>\n",
       "      <td>170</td>\n",
       "      <td>Manufacturing</td>\n",
       "      <td>NaN</td>\n",
       "      <td>1700</td>\n",
       "    </tr>\n",
       "    <tr>\n",
       "      <th>17</th>\n",
       "      <td>180</td>\n",
       "      <td>Construction</td>\n",
       "      <td>NaN</td>\n",
       "      <td>1700</td>\n",
       "    </tr>\n",
       "    <tr>\n",
       "      <th>18</th>\n",
       "      <td>190</td>\n",
       "      <td>Contracting</td>\n",
       "      <td>NaN</td>\n",
       "      <td>1700</td>\n",
       "    </tr>\n",
       "    <tr>\n",
       "      <th>19</th>\n",
       "      <td>200</td>\n",
       "      <td>Operations</td>\n",
       "      <td>NaN</td>\n",
       "      <td>1700</td>\n",
       "    </tr>\n",
       "    <tr>\n",
       "      <th>20</th>\n",
       "      <td>210</td>\n",
       "      <td>IT Support</td>\n",
       "      <td>NaN</td>\n",
       "      <td>1700</td>\n",
       "    </tr>\n",
       "    <tr>\n",
       "      <th>21</th>\n",
       "      <td>220</td>\n",
       "      <td>NOC</td>\n",
       "      <td>NaN</td>\n",
       "      <td>1700</td>\n",
       "    </tr>\n",
       "    <tr>\n",
       "      <th>22</th>\n",
       "      <td>230</td>\n",
       "      <td>IT Helpdesk</td>\n",
       "      <td>NaN</td>\n",
       "      <td>1700</td>\n",
       "    </tr>\n",
       "    <tr>\n",
       "      <th>23</th>\n",
       "      <td>240</td>\n",
       "      <td>Government Sales</td>\n",
       "      <td>NaN</td>\n",
       "      <td>1700</td>\n",
       "    </tr>\n",
       "    <tr>\n",
       "      <th>24</th>\n",
       "      <td>250</td>\n",
       "      <td>Retail Sales</td>\n",
       "      <td>NaN</td>\n",
       "      <td>1700</td>\n",
       "    </tr>\n",
       "    <tr>\n",
       "      <th>25</th>\n",
       "      <td>260</td>\n",
       "      <td>Recruiting</td>\n",
       "      <td>NaN</td>\n",
       "      <td>1700</td>\n",
       "    </tr>\n",
       "    <tr>\n",
       "      <th>26</th>\n",
       "      <td>270</td>\n",
       "      <td>Payroll</td>\n",
       "      <td>NaN</td>\n",
       "      <td>1700</td>\n",
       "    </tr>\n",
       "  </tbody>\n",
       "</table>\n",
       "</div>"
      ],
      "text/plain": [
       "    DEPARTMENT_ID       DEPARTMENT_NAME  MANAGER_ID  LOCATION_ID\n",
       "0              10        Administration       200.0         1700\n",
       "1              20             Marketing       201.0         1800\n",
       "2              30            Purchasing       114.0         1700\n",
       "3              40       Human Resources       203.0         2400\n",
       "4              50              Shipping       121.0         1500\n",
       "5              60                    IT       103.0         1400\n",
       "6              70      Public Relations       204.0         2700\n",
       "7              80                 Sales       145.0         2500\n",
       "8              90             Executive       100.0         1700\n",
       "9             100               Finance       108.0         1700\n",
       "10            110            Accounting       205.0         1700\n",
       "11            120              Treasury         NaN         1700\n",
       "12            130         Corporate Tax         NaN         1700\n",
       "13            140    Control And Credit         NaN         1700\n",
       "14            150  Shareholder Services         NaN         1700\n",
       "15            160              Benefits         NaN         1700\n",
       "16            170         Manufacturing         NaN         1700\n",
       "17            180          Construction         NaN         1700\n",
       "18            190           Contracting         NaN         1700\n",
       "19            200            Operations         NaN         1700\n",
       "20            210            IT Support         NaN         1700\n",
       "21            220                   NOC         NaN         1700\n",
       "22            230           IT Helpdesk         NaN         1700\n",
       "23            240      Government Sales         NaN         1700\n",
       "24            250          Retail Sales         NaN         1700\n",
       "25            260            Recruiting         NaN         1700\n",
       "26            270               Payroll         NaN         1700"
      ]
     },
     "execution_count": 15,
     "metadata": {},
     "output_type": "execute_result"
    }
   ],
   "source": [
    "departments"
   ]
  },
  {
   "cell_type": "code",
   "execution_count": 16,
   "metadata": {},
   "outputs": [],
   "source": [
    "connection.close()"
   ]
  },
  {
   "cell_type": "code",
   "execution_count": null,
   "metadata": {},
   "outputs": [],
   "source": []
  },
  {
   "cell_type": "code",
   "execution_count": 21,
   "metadata": {},
   "outputs": [
    {
     "name": "stdout",
     "output_type": "stream",
     "text": [
      "[102][Lex][De Haan][2001-01-13 00:00:00]\n",
      "[103][Alexander][Hunold][2006-01-03 00:00:00]\n",
      "[115][Alexander][Khoo][2003-05-18 00:00:00]\n",
      "[185][Alexis][Bull][2005-02-20 00:00:00]\n"
     ]
    }
   ],
   "source": [
    "connection = cx_Oracle.connect('hr', 'hoseo', '127.0.0.1:1521/xe')\n",
    "cursor = connection.cursor()\n",
    "cursor.execute(\"\"\"\n",
    "    SELECT EMPLOYEE_ID, FIRST_NAME, LAST_NAME, HIRE_DATE \n",
    "    FROM EMPLOYEES\n",
    "    WHERE LOWER(FIRST_NAME) LIKE '%x%'\"\"\") # 소문자로 비교\n",
    "for eid, fn, ln, hd in cursor:\n",
    "    print(\"[{0}][{1}][{2}][{3}]\".format(eid, fn, ln, hd))\n",
    "\n",
    "cursor.close()\n",
    "connection.close()"
   ]
  },
  {
   "cell_type": "code",
   "execution_count": 23,
   "metadata": {},
   "outputs": [
    {
     "name": "stdout",
     "output_type": "stream",
     "text": [
      "[102][Lex][De Haan][2001-01-13 00:00:00]\n",
      "[103][Alexander][Hunold][2006-01-03 00:00:00]\n",
      "[115][Alexander][Khoo][2003-05-18 00:00:00]\n",
      "[185][Alexis][Bull][2005-02-20 00:00:00]\n"
     ]
    }
   ],
   "source": [
    "# sql에서 data 분리하는것이 필요하다.\n",
    "connection = cx_Oracle.connect('hr', 'hoseo', '127.0.0.1:1521/xe')\n",
    "cursor = connection.cursor()\n",
    "cursor.execute(\"\"\"\n",
    "    SELECT EMPLOYEE_ID, FIRST_NAME, LAST_NAME, HIRE_DATE \n",
    "    FROM EMPLOYEES\n",
    "    WHERE LOWER(FIRST_NAME) LIKE :fn\"\"\", # SQL에서 \":이름\"은 변수, 변수에 저장할 것입니다.\n",
    "    fn='%x%') # 똑같은 결과는 나오지만 완전 다르다. fn은 변하지 않는다. 데이터가 가변적으로 변하기 때문에 fn을 만드는 것이 효율적. 데이터를 fn에 저장 / 실행계획에서는 데이터를 빼고 처리하고 실행할 때에는 데이터로 함 --> 따로 따로 두는 것.\n",
    "for eid, fn, ln, hd in cursor:\n",
    "    print(\"[{0}][{1}][{2}][{3}]\".format(eid, fn, ln, hd))\n",
    "\n",
    "cursor.close()\n",
    "connection.close()"
   ]
  },
  {
   "cell_type": "code",
   "execution_count": 27,
   "metadata": {},
   "outputs": [
    {
     "name": "stdin",
     "output_type": "stream",
     "text": [
      "name key :  z\n"
     ]
    },
    {
     "data": {
      "text/html": [
       "<div>\n",
       "<style scoped>\n",
       "    .dataframe tbody tr th:only-of-type {\n",
       "        vertical-align: middle;\n",
       "    }\n",
       "\n",
       "    .dataframe tbody tr th {\n",
       "        vertical-align: top;\n",
       "    }\n",
       "\n",
       "    .dataframe thead th {\n",
       "        text-align: right;\n",
       "    }\n",
       "</style>\n",
       "<table border=\"1\" class=\"dataframe\">\n",
       "  <thead>\n",
       "    <tr style=\"text-align: right;\">\n",
       "      <th></th>\n",
       "      <th>EMPLOYEE_ID</th>\n",
       "      <th>FIRST_NAME</th>\n",
       "      <th>LAST_NAME</th>\n",
       "      <th>HIRE_DATE</th>\n",
       "    </tr>\n",
       "  </thead>\n",
       "  <tbody>\n",
       "    <tr>\n",
       "      <th>0</th>\n",
       "      <td>130</td>\n",
       "      <td>Mozhe</td>\n",
       "      <td>Atkinson</td>\n",
       "      <td>2005-10-30</td>\n",
       "    </tr>\n",
       "    <tr>\n",
       "      <th>1</th>\n",
       "      <td>136</td>\n",
       "      <td>Hazel</td>\n",
       "      <td>Philtanker</td>\n",
       "      <td>2008-02-06</td>\n",
       "    </tr>\n",
       "    <tr>\n",
       "      <th>2</th>\n",
       "      <td>172</td>\n",
       "      <td>Elizabeth</td>\n",
       "      <td>Bates</td>\n",
       "      <td>2007-03-24</td>\n",
       "    </tr>\n",
       "  </tbody>\n",
       "</table>\n",
       "</div>"
      ],
      "text/plain": [
       "   EMPLOYEE_ID FIRST_NAME   LAST_NAME  HIRE_DATE\n",
       "0          130      Mozhe    Atkinson 2005-10-30\n",
       "1          136      Hazel  Philtanker 2008-02-06\n",
       "2          172  Elizabeth       Bates 2007-03-24"
      ]
     },
     "execution_count": 27,
     "metadata": {},
     "output_type": "execute_result"
    }
   ],
   "source": [
    "name_key = input(\"name key : \") # 명령행에서 사용자 입력\n",
    "\n",
    "connection = cx_Oracle.connect('hr', 'hoseo', '127.0.0.1:1521/xe')\n",
    "employees = pd.read_sql(\"\"\"\n",
    "    SELECT EMPLOYEE_ID, FIRST_NAME, LAST_NAME, HIRE_DATE \n",
    "    FROM EMPLOYEES\n",
    "    WHERE LOWER(FIRST_NAME) LIKE :fn\"\"\", # fn에 넣기\n",
    "    connection,\n",
    "    params={ 'fn' : '%{0}%'.format(name_key)}) # sql문과 data는 분리해서 실행 # fn에는 %사용자 입력%를 넣는다 # 사용자 입력한 글자를 포함하는 이름 출력\n",
    "\n",
    "connection.close()\n",
    "employees"
   ]
  },
  {
   "cell_type": "code",
   "execution_count": 35,
   "metadata": {},
   "outputs": [
    {
     "name": "stdin",
     "output_type": "stream",
     "text": [
      "country :  canada\n"
     ]
    },
    {
     "data": {
      "text/html": [
       "<div>\n",
       "<style scoped>\n",
       "    .dataframe tbody tr th:only-of-type {\n",
       "        vertical-align: middle;\n",
       "    }\n",
       "\n",
       "    .dataframe tbody tr th {\n",
       "        vertical-align: top;\n",
       "    }\n",
       "\n",
       "    .dataframe thead th {\n",
       "        text-align: right;\n",
       "    }\n",
       "</style>\n",
       "<table border=\"1\" class=\"dataframe\">\n",
       "  <thead>\n",
       "    <tr style=\"text-align: right;\">\n",
       "      <th></th>\n",
       "      <th>FIRST_NAME</th>\n",
       "      <th>LAST_NAME</th>\n",
       "      <th>EMAIL</th>\n",
       "      <th>COUNTRY_NAME</th>\n",
       "    </tr>\n",
       "  </thead>\n",
       "  <tbody>\n",
       "    <tr>\n",
       "      <th>0</th>\n",
       "      <td>Michael</td>\n",
       "      <td>Hartstein</td>\n",
       "      <td>MHARTSTE</td>\n",
       "      <td>Canada</td>\n",
       "    </tr>\n",
       "    <tr>\n",
       "      <th>1</th>\n",
       "      <td>Pat</td>\n",
       "      <td>Fay</td>\n",
       "      <td>PFAY</td>\n",
       "      <td>Canada</td>\n",
       "    </tr>\n",
       "  </tbody>\n",
       "</table>\n",
       "</div>"
      ],
      "text/plain": [
       "  FIRST_NAME  LAST_NAME     EMAIL COUNTRY_NAME\n",
       "0    Michael  Hartstein  MHARTSTE       Canada\n",
       "1        Pat        Fay      PFAY       Canada"
      ]
     },
     "execution_count": 35,
     "metadata": {},
     "output_type": "execute_result"
    }
   ],
   "source": [
    "country_key = input(\"country : \") # 명령행에서 사용자 입력\n",
    "\n",
    "connection = cx_Oracle.connect('hr', 'hoseo', '127.0.0.1:1521/xe')\n",
    "employees = pd.read_sql(\"\"\"\n",
    "    SELECT E.FIRST_NAME, E.LAST_NAME, E.EMAIL, C.COUNTRY_NAME\n",
    "    FROM EMPLOYEES E, DEPARTMENTS D, LOCATIONS L, COUNTRIES C\n",
    "    WHERE E.DEPARTMENT_ID = D.DEPARTMENT_ID\n",
    "          AND D.LOCATION_ID = L.LOCATION_ID\n",
    "          AND L.COUNTRY_ID = C.COUNTRY_ID\n",
    "          AND LOWER(C.COUNTRY_NAME) LIKE  :country\"\"\", # fn에 넣기\n",
    "    connection,\n",
    "    params={ 'country' : '%{0}%'.format(country_key)}) # sql문과 data는 분리해서 실행 # fn에는 %사용자 입력%를 넣는다 # 사용자 입력한 글자를 포함하는 이름 출력\n",
    "\n",
    "connection.close()\n",
    "employees"
   ]
  },
  {
   "cell_type": "code",
   "execution_count": null,
   "metadata": {},
   "outputs": [],
   "source": []
  },
  {
   "cell_type": "code",
   "execution_count": 1,
   "metadata": {},
   "outputs": [],
   "source": [
    "import cx_Oracle\n",
    "import numpy as np\n",
    "import pandas as pd"
   ]
  },
  {
   "cell_type": "code",
   "execution_count": 8,
   "metadata": {},
   "outputs": [],
   "source": [
    "conn = cx_Oracle.connect('hr', 'hoseo', '127.0.0.1:1521/xe')    \n",
    "\n",
    "cursor = conn.cursor()\n",
    "\n",
    "sql = \"\"\"INSERT INTO JOBS (JOB_ID, JOB_TITLE, MIN_SALARY, MAX_SALARY)\n",
    "         VALUES\n",
    "         (:ID, :TITLE, :MINS, :MAXS) \n",
    "        \"\"\" # :는 변수라는 것을 알려주는 것\n",
    "\n",
    "\n",
    "cursor.execute(sql, ID='DB ENG', TITLE=\"Database Engineer\",\n",
    "               MINS=4000, MAXS=10000)\n",
    "conn.commit() # 이걸 해줘야 바로 윗 구문을 실행함\n",
    "\n",
    "cursor.close()\n",
    "conn.close()"
   ]
  },
  {
   "cell_type": "code",
   "execution_count": 14,
   "metadata": {},
   "outputs": [
    {
     "data": {
      "text/html": [
       "<div>\n",
       "<style scoped>\n",
       "    .dataframe tbody tr th:only-of-type {\n",
       "        vertical-align: middle;\n",
       "    }\n",
       "\n",
       "    .dataframe tbody tr th {\n",
       "        vertical-align: top;\n",
       "    }\n",
       "\n",
       "    .dataframe thead th {\n",
       "        text-align: right;\n",
       "    }\n",
       "</style>\n",
       "<table border=\"1\" class=\"dataframe\">\n",
       "  <thead>\n",
       "    <tr style=\"text-align: right;\">\n",
       "      <th></th>\n",
       "      <th>JOB_ID</th>\n",
       "      <th>JOB_TITLE</th>\n",
       "      <th>MIN_SALARY</th>\n",
       "      <th>MAX_SALARY</th>\n",
       "    </tr>\n",
       "  </thead>\n",
       "  <tbody>\n",
       "  </tbody>\n",
       "</table>\n",
       "</div>"
      ],
      "text/plain": [
       "Empty DataFrame\n",
       "Columns: [JOB_ID, JOB_TITLE, MIN_SALARY, MAX_SALARY]\n",
       "Index: []"
      ]
     },
     "execution_count": 14,
     "metadata": {},
     "output_type": "execute_result"
    }
   ],
   "source": [
    "conn = cx_Oracle.connect('hr', 'hoseo', '127.0.0.1:1521/xe')    \n",
    "\n",
    "sql = \"\"\"\n",
    "        SELECT * FROM JOBS WHERE JOB_ID='DB ENG'\n",
    "      \"\"\" # :는 변수라는 것을 알려주는 것\n",
    "\n",
    "jobs = pd.read_sql(sql, conn)\n",
    "\n",
    "conn.close()\n",
    "\n",
    "jobs"
   ]
  },
  {
   "cell_type": "code",
   "execution_count": 12,
   "metadata": {},
   "outputs": [],
   "source": [
    "conn = cx_Oracle.connect('hr', 'hoseo', '127.0.0.1:1521/xe')    \n",
    "\n",
    "cursor = conn.cursor()\n",
    "\n",
    "sql = \"\"\"\n",
    "        UPDATE JOBS\n",
    "        SET MIN_SALARY = :MINS, MAX_SALARY = :MAXS\n",
    "        WHERE JOB_ID = :ID\n",
    "        \n",
    "      \"\"\" \n",
    "\n",
    "\n",
    "cursor.execute(sql, MINS=5000, MAXS=12000, ID='DB ENG')\n",
    "conn.commit() \n",
    "\n",
    "cursor.close()\n",
    "conn.close()"
   ]
  },
  {
   "cell_type": "code",
   "execution_count": 15,
   "metadata": {},
   "outputs": [],
   "source": [
    "conn = cx_Oracle.connect('hr', 'hoseo', '127.0.0.1:1521/xe')    \n",
    "\n",
    "cursor = conn.cursor()\n",
    "\n",
    "sql = \"\"\"\n",
    "        DELETE FROM JOBS\n",
    "        WHERE JOB_ID = :ID\n",
    "      \"\"\" \n",
    "\n",
    "\n",
    "cursor.execute(sql, ID='DB ENG')\n",
    "conn.commit() \n",
    "\n",
    "cursor.close()\n",
    "conn.close()"
   ]
  },
  {
   "cell_type": "code",
   "execution_count": 20,
   "metadata": {},
   "outputs": [
    {
     "ename": "NameError",
     "evalue": "name 'requests' is not defined",
     "output_type": "error",
     "traceback": [
      "\u001b[1;31m---------------------------------------------------------------------------\u001b[0m",
      "\u001b[1;31mNameError\u001b[0m                                 Traceback (most recent call last)",
      "\u001b[1;32m<ipython-input-20-1ce7c2b95005>\u001b[0m in \u001b[0;36m<module>\u001b[1;34m\u001b[0m\n\u001b[0;32m      4\u001b[0m \u001b[1;33m\u001b[0m\u001b[0m\n\u001b[0;32m      5\u001b[0m \u001b[1;32mfor\u001b[0m \u001b[0mrnd\u001b[0m \u001b[1;32min\u001b[0m \u001b[0mrange\u001b[0m\u001b[1;33m(\u001b[0m\u001b[1;36m1\u001b[0m\u001b[1;33m,\u001b[0m \u001b[1;36m920\u001b[0m\u001b[1;33m)\u001b[0m\u001b[1;33m:\u001b[0m \u001b[1;31m# 1~919회차.\u001b[0m\u001b[1;33m\u001b[0m\u001b[1;33m\u001b[0m\u001b[0m\n\u001b[1;32m----> 6\u001b[1;33m     \u001b[0mresponse\u001b[0m \u001b[1;33m=\u001b[0m \u001b[0mrequests\u001b[0m\u001b[1;33m.\u001b[0m\u001b[0mget\u001b[0m\u001b[1;33m(\u001b[0m\u001b[0murl_string\u001b[0m\u001b[1;33m.\u001b[0m\u001b[0mformat\u001b[0m\u001b[1;33m(\u001b[0m\u001b[0mrnd\u001b[0m\u001b[1;33m)\u001b[0m\u001b[1;33m)\u001b[0m\u001b[1;33m\u001b[0m\u001b[1;33m\u001b[0m\u001b[0m\n\u001b[0m",
      "\u001b[1;31mNameError\u001b[0m: name 'requests' is not defined"
     ]
    }
   ],
   "source": []
  },
  {
   "cell_type": "code",
   "execution_count": null,
   "metadata": {},
   "outputs": [],
   "source": []
  }
 ],
 "metadata": {
  "kernelspec": {
   "display_name": "Python 3",
   "language": "python",
   "name": "python3"
  },
  "language_info": {
   "codemirror_mode": {
    "name": "ipython",
    "version": 3
   },
   "file_extension": ".py",
   "mimetype": "text/x-python",
   "name": "python",
   "nbconvert_exporter": "python",
   "pygments_lexer": "ipython3",
   "version": "3.6.10"
  }
 },
 "nbformat": 4,
 "nbformat_minor": 4
}
