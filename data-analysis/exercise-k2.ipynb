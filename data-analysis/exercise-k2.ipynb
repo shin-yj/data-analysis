{
 "cells": [
  {
   "cell_type": "code",
   "execution_count": 1,
   "metadata": {},
   "outputs": [],
   "source": [
    "import numpy as np\n",
    "import pandas as pd\n",
    "import matplotlib.pyplot as plt"
   ]
  },
  {
   "cell_type": "code",
   "execution_count": 2,
   "metadata": {},
   "outputs": [
    {
     "output_type": "execute_result",
     "data": {
      "text/plain": "   Account                          Name            Rep       Manager  \\\n0   714466               Trantow-Barrows   Craig Booker  Debra Henley   \n1   714466               Trantow-Barrows   Craig Booker  Debra Henley   \n2   714466               Trantow-Barrows   Craig Booker  Debra Henley   \n3   737550  Fritsch, Russel and Anderson   Craig Booker  Debra Henley   \n4   146832                  Kiehn-Spinka  Daniel Hilton  Debra Henley   \n\n       Product  Quantity  Price     Status  \n0          CPU         1  30000  presented  \n1     Software         1  10000  presented  \n2  Maintenance         2   5000    pending  \n3          CPU         1  35000   declined  \n4          CPU         2  65000        won  ",
      "text/html": "<div>\n<style scoped>\n    .dataframe tbody tr th:only-of-type {\n        vertical-align: middle;\n    }\n\n    .dataframe tbody tr th {\n        vertical-align: top;\n    }\n\n    .dataframe thead th {\n        text-align: right;\n    }\n</style>\n<table border=\"1\" class=\"dataframe\">\n  <thead>\n    <tr style=\"text-align: right;\">\n      <th></th>\n      <th>Account</th>\n      <th>Name</th>\n      <th>Rep</th>\n      <th>Manager</th>\n      <th>Product</th>\n      <th>Quantity</th>\n      <th>Price</th>\n      <th>Status</th>\n    </tr>\n  </thead>\n  <tbody>\n    <tr>\n      <th>0</th>\n      <td>714466</td>\n      <td>Trantow-Barrows</td>\n      <td>Craig Booker</td>\n      <td>Debra Henley</td>\n      <td>CPU</td>\n      <td>1</td>\n      <td>30000</td>\n      <td>presented</td>\n    </tr>\n    <tr>\n      <th>1</th>\n      <td>714466</td>\n      <td>Trantow-Barrows</td>\n      <td>Craig Booker</td>\n      <td>Debra Henley</td>\n      <td>Software</td>\n      <td>1</td>\n      <td>10000</td>\n      <td>presented</td>\n    </tr>\n    <tr>\n      <th>2</th>\n      <td>714466</td>\n      <td>Trantow-Barrows</td>\n      <td>Craig Booker</td>\n      <td>Debra Henley</td>\n      <td>Maintenance</td>\n      <td>2</td>\n      <td>5000</td>\n      <td>pending</td>\n    </tr>\n    <tr>\n      <th>3</th>\n      <td>737550</td>\n      <td>Fritsch, Russel and Anderson</td>\n      <td>Craig Booker</td>\n      <td>Debra Henley</td>\n      <td>CPU</td>\n      <td>1</td>\n      <td>35000</td>\n      <td>declined</td>\n    </tr>\n    <tr>\n      <th>4</th>\n      <td>146832</td>\n      <td>Kiehn-Spinka</td>\n      <td>Daniel Hilton</td>\n      <td>Debra Henley</td>\n      <td>CPU</td>\n      <td>2</td>\n      <td>65000</td>\n      <td>won</td>\n    </tr>\n  </tbody>\n</table>\n</div>"
     },
     "metadata": {},
     "execution_count": 2
    }
   ],
   "source": [
    "sales_funnel = pd.read_excel('data-files/b.sales-funnel.xlsx')\n",
    "sales_funnel.head()"
   ]
  },
  {
   "cell_type": "code",
   "execution_count": 3,
   "metadata": {},
   "outputs": [
    {
     "output_type": "execute_result",
     "data": {
      "text/plain": "                              Account   Price  Quantity\nName                                                   \nBarton LLC                     740150   35000  1.000000\nFritsch, Russel and Anderson   737550   35000  1.000000\nHerman LLC                     141962   65000  2.000000\nJerde-Hilpert                  412290    5000  2.000000\nKassulke, Ondricka and Metz    307599    7000  3.000000\nKeeling LLC                    688981  100000  5.000000\nKiehn-Spinka                   146832   65000  2.000000\nKoepp Ltd                      729833   35000  2.000000\nKulas Inc                      218895   25000  1.500000\nPurdy-Kunde                    163416   30000  1.000000\nStokes LLC                     239344    7500  1.000000\nTrantow-Barrows                714466   15000  1.333333",
      "text/html": "<div>\n<style scoped>\n    .dataframe tbody tr th:only-of-type {\n        vertical-align: middle;\n    }\n\n    .dataframe tbody tr th {\n        vertical-align: top;\n    }\n\n    .dataframe thead th {\n        text-align: right;\n    }\n</style>\n<table border=\"1\" class=\"dataframe\">\n  <thead>\n    <tr style=\"text-align: right;\">\n      <th></th>\n      <th>Account</th>\n      <th>Price</th>\n      <th>Quantity</th>\n    </tr>\n    <tr>\n      <th>Name</th>\n      <th></th>\n      <th></th>\n      <th></th>\n    </tr>\n  </thead>\n  <tbody>\n    <tr>\n      <th>Barton LLC</th>\n      <td>740150</td>\n      <td>35000</td>\n      <td>1.000000</td>\n    </tr>\n    <tr>\n      <th>Fritsch, Russel and Anderson</th>\n      <td>737550</td>\n      <td>35000</td>\n      <td>1.000000</td>\n    </tr>\n    <tr>\n      <th>Herman LLC</th>\n      <td>141962</td>\n      <td>65000</td>\n      <td>2.000000</td>\n    </tr>\n    <tr>\n      <th>Jerde-Hilpert</th>\n      <td>412290</td>\n      <td>5000</td>\n      <td>2.000000</td>\n    </tr>\n    <tr>\n      <th>Kassulke, Ondricka and Metz</th>\n      <td>307599</td>\n      <td>7000</td>\n      <td>3.000000</td>\n    </tr>\n    <tr>\n      <th>Keeling LLC</th>\n      <td>688981</td>\n      <td>100000</td>\n      <td>5.000000</td>\n    </tr>\n    <tr>\n      <th>Kiehn-Spinka</th>\n      <td>146832</td>\n      <td>65000</td>\n      <td>2.000000</td>\n    </tr>\n    <tr>\n      <th>Koepp Ltd</th>\n      <td>729833</td>\n      <td>35000</td>\n      <td>2.000000</td>\n    </tr>\n    <tr>\n      <th>Kulas Inc</th>\n      <td>218895</td>\n      <td>25000</td>\n      <td>1.500000</td>\n    </tr>\n    <tr>\n      <th>Purdy-Kunde</th>\n      <td>163416</td>\n      <td>30000</td>\n      <td>1.000000</td>\n    </tr>\n    <tr>\n      <th>Stokes LLC</th>\n      <td>239344</td>\n      <td>7500</td>\n      <td>1.000000</td>\n    </tr>\n    <tr>\n      <th>Trantow-Barrows</th>\n      <td>714466</td>\n      <td>15000</td>\n      <td>1.333333</td>\n    </tr>\n  </tbody>\n</table>\n</div>"
     },
     "metadata": {},
     "execution_count": 3
    }
   ],
   "source": [
    "pd.pivot_table(sales_funnel, index=['Name']) # 컬럼과 열을 재구성 #index를 name으로 잡고, 숫자로 된 것들만 가져옴\n"
   ]
  },
  {
   "cell_type": "code",
   "execution_count": 4,
   "metadata": {},
   "outputs": [
    {
     "output_type": "execute_result",
     "data": {
      "text/plain": "                                                          Account   Price  \\\nName                         Rep           Manager                          \nBarton LLC                   John Smith    Debra Henley    740150   35000   \nFritsch, Russel and Anderson Craig Booker  Debra Henley    737550   35000   \nHerman LLC                   Cedric Moss   Fred Anderson   141962   65000   \nJerde-Hilpert                John Smith    Debra Henley    412290    5000   \nKassulke, Ondricka and Metz  Wendy Yule    Fred Anderson   307599    7000   \nKeeling LLC                  Wendy Yule    Fred Anderson   688981  100000   \nKiehn-Spinka                 Daniel Hilton Debra Henley    146832   65000   \nKoepp Ltd                    Wendy Yule    Fred Anderson   729833   35000   \nKulas Inc                    Daniel Hilton Debra Henley    218895   25000   \nPurdy-Kunde                  Cedric Moss   Fred Anderson   163416   30000   \nStokes LLC                   Cedric Moss   Fred Anderson   239344    7500   \nTrantow-Barrows              Craig Booker  Debra Henley    714466   15000   \n\n                                                          Quantity  \nName                         Rep           Manager                  \nBarton LLC                   John Smith    Debra Henley   1.000000  \nFritsch, Russel and Anderson Craig Booker  Debra Henley   1.000000  \nHerman LLC                   Cedric Moss   Fred Anderson  2.000000  \nJerde-Hilpert                John Smith    Debra Henley   2.000000  \nKassulke, Ondricka and Metz  Wendy Yule    Fred Anderson  3.000000  \nKeeling LLC                  Wendy Yule    Fred Anderson  5.000000  \nKiehn-Spinka                 Daniel Hilton Debra Henley   2.000000  \nKoepp Ltd                    Wendy Yule    Fred Anderson  2.000000  \nKulas Inc                    Daniel Hilton Debra Henley   1.500000  \nPurdy-Kunde                  Cedric Moss   Fred Anderson  1.000000  \nStokes LLC                   Cedric Moss   Fred Anderson  1.000000  \nTrantow-Barrows              Craig Booker  Debra Henley   1.333333  ",
      "text/html": "<div>\n<style scoped>\n    .dataframe tbody tr th:only-of-type {\n        vertical-align: middle;\n    }\n\n    .dataframe tbody tr th {\n        vertical-align: top;\n    }\n\n    .dataframe thead th {\n        text-align: right;\n    }\n</style>\n<table border=\"1\" class=\"dataframe\">\n  <thead>\n    <tr style=\"text-align: right;\">\n      <th></th>\n      <th></th>\n      <th></th>\n      <th>Account</th>\n      <th>Price</th>\n      <th>Quantity</th>\n    </tr>\n    <tr>\n      <th>Name</th>\n      <th>Rep</th>\n      <th>Manager</th>\n      <th></th>\n      <th></th>\n      <th></th>\n    </tr>\n  </thead>\n  <tbody>\n    <tr>\n      <th>Barton LLC</th>\n      <th>John Smith</th>\n      <th>Debra Henley</th>\n      <td>740150</td>\n      <td>35000</td>\n      <td>1.000000</td>\n    </tr>\n    <tr>\n      <th>Fritsch, Russel and Anderson</th>\n      <th>Craig Booker</th>\n      <th>Debra Henley</th>\n      <td>737550</td>\n      <td>35000</td>\n      <td>1.000000</td>\n    </tr>\n    <tr>\n      <th>Herman LLC</th>\n      <th>Cedric Moss</th>\n      <th>Fred Anderson</th>\n      <td>141962</td>\n      <td>65000</td>\n      <td>2.000000</td>\n    </tr>\n    <tr>\n      <th>Jerde-Hilpert</th>\n      <th>John Smith</th>\n      <th>Debra Henley</th>\n      <td>412290</td>\n      <td>5000</td>\n      <td>2.000000</td>\n    </tr>\n    <tr>\n      <th>Kassulke, Ondricka and Metz</th>\n      <th>Wendy Yule</th>\n      <th>Fred Anderson</th>\n      <td>307599</td>\n      <td>7000</td>\n      <td>3.000000</td>\n    </tr>\n    <tr>\n      <th>Keeling LLC</th>\n      <th>Wendy Yule</th>\n      <th>Fred Anderson</th>\n      <td>688981</td>\n      <td>100000</td>\n      <td>5.000000</td>\n    </tr>\n    <tr>\n      <th>Kiehn-Spinka</th>\n      <th>Daniel Hilton</th>\n      <th>Debra Henley</th>\n      <td>146832</td>\n      <td>65000</td>\n      <td>2.000000</td>\n    </tr>\n    <tr>\n      <th>Koepp Ltd</th>\n      <th>Wendy Yule</th>\n      <th>Fred Anderson</th>\n      <td>729833</td>\n      <td>35000</td>\n      <td>2.000000</td>\n    </tr>\n    <tr>\n      <th>Kulas Inc</th>\n      <th>Daniel Hilton</th>\n      <th>Debra Henley</th>\n      <td>218895</td>\n      <td>25000</td>\n      <td>1.500000</td>\n    </tr>\n    <tr>\n      <th>Purdy-Kunde</th>\n      <th>Cedric Moss</th>\n      <th>Fred Anderson</th>\n      <td>163416</td>\n      <td>30000</td>\n      <td>1.000000</td>\n    </tr>\n    <tr>\n      <th>Stokes LLC</th>\n      <th>Cedric Moss</th>\n      <th>Fred Anderson</th>\n      <td>239344</td>\n      <td>7500</td>\n      <td>1.000000</td>\n    </tr>\n    <tr>\n      <th>Trantow-Barrows</th>\n      <th>Craig Booker</th>\n      <th>Debra Henley</th>\n      <td>714466</td>\n      <td>15000</td>\n      <td>1.333333</td>\n    </tr>\n  </tbody>\n</table>\n</div>"
     },
     "metadata": {},
     "execution_count": 4
    }
   ],
   "source": [
    "pd.pivot_table(sales_funnel, index=['Name','Rep', 'Manager'])"
   ]
  },
  {
   "cell_type": "code",
   "execution_count": 5,
   "metadata": {},
   "outputs": [
    {
     "output_type": "execute_result",
     "data": {
      "text/plain": "                              Account         Price  Quantity\nManager       Rep                                            \nDebra Henley  Craig Booker   720237.0  20000.000000  1.250000\n              Daniel Hilton  194874.0  38333.333333  1.666667\n              John Smith     576220.0  20000.000000  1.500000\nFred Anderson Cedric Moss    196016.5  27500.000000  1.250000\n              Wendy Yule     614061.5  44250.000000  3.000000",
      "text/html": "<div>\n<style scoped>\n    .dataframe tbody tr th:only-of-type {\n        vertical-align: middle;\n    }\n\n    .dataframe tbody tr th {\n        vertical-align: top;\n    }\n\n    .dataframe thead th {\n        text-align: right;\n    }\n</style>\n<table border=\"1\" class=\"dataframe\">\n  <thead>\n    <tr style=\"text-align: right;\">\n      <th></th>\n      <th></th>\n      <th>Account</th>\n      <th>Price</th>\n      <th>Quantity</th>\n    </tr>\n    <tr>\n      <th>Manager</th>\n      <th>Rep</th>\n      <th></th>\n      <th></th>\n      <th></th>\n    </tr>\n  </thead>\n  <tbody>\n    <tr>\n      <th rowspan=\"3\" valign=\"top\">Debra Henley</th>\n      <th>Craig Booker</th>\n      <td>720237.0</td>\n      <td>20000.000000</td>\n      <td>1.250000</td>\n    </tr>\n    <tr>\n      <th>Daniel Hilton</th>\n      <td>194874.0</td>\n      <td>38333.333333</td>\n      <td>1.666667</td>\n    </tr>\n    <tr>\n      <th>John Smith</th>\n      <td>576220.0</td>\n      <td>20000.000000</td>\n      <td>1.500000</td>\n    </tr>\n    <tr>\n      <th rowspan=\"2\" valign=\"top\">Fred Anderson</th>\n      <th>Cedric Moss</th>\n      <td>196016.5</td>\n      <td>27500.000000</td>\n      <td>1.250000</td>\n    </tr>\n    <tr>\n      <th>Wendy Yule</th>\n      <td>614061.5</td>\n      <td>44250.000000</td>\n      <td>3.000000</td>\n    </tr>\n  </tbody>\n</table>\n</div>"
     },
     "metadata": {},
     "execution_count": 5
    }
   ],
   "source": [
    "pd.pivot_table(sales_funnel, index=['Manager','Rep'])"
   ]
  },
  {
   "cell_type": "code",
   "execution_count": 6,
   "metadata": {},
   "outputs": [
    {
     "output_type": "execute_result",
     "data": {
      "text/plain": "                                    Price\nManager       Rep                        \nDebra Henley  Craig Booker   20000.000000\n              Daniel Hilton  38333.333333\n              John Smith     20000.000000\nFred Anderson Cedric Moss    27500.000000\n              Wendy Yule     44250.000000",
      "text/html": "<div>\n<style scoped>\n    .dataframe tbody tr th:only-of-type {\n        vertical-align: middle;\n    }\n\n    .dataframe tbody tr th {\n        vertical-align: top;\n    }\n\n    .dataframe thead th {\n        text-align: right;\n    }\n</style>\n<table border=\"1\" class=\"dataframe\">\n  <thead>\n    <tr style=\"text-align: right;\">\n      <th></th>\n      <th></th>\n      <th>Price</th>\n    </tr>\n    <tr>\n      <th>Manager</th>\n      <th>Rep</th>\n      <th></th>\n    </tr>\n  </thead>\n  <tbody>\n    <tr>\n      <th rowspan=\"3\" valign=\"top\">Debra Henley</th>\n      <th>Craig Booker</th>\n      <td>20000.000000</td>\n    </tr>\n    <tr>\n      <th>Daniel Hilton</th>\n      <td>38333.333333</td>\n    </tr>\n    <tr>\n      <th>John Smith</th>\n      <td>20000.000000</td>\n    </tr>\n    <tr>\n      <th rowspan=\"2\" valign=\"top\">Fred Anderson</th>\n      <th>Cedric Moss</th>\n      <td>27500.000000</td>\n    </tr>\n    <tr>\n      <th>Wendy Yule</th>\n      <td>44250.000000</td>\n    </tr>\n  </tbody>\n</table>\n</div>"
     },
     "metadata": {},
     "execution_count": 6
    }
   ],
   "source": [
    "pd.pivot_table(sales_funnel,index=['Manager','Rep'], values=['Price']) # Price만 보고싶당"
   ]
  },
  {
   "cell_type": "code",
   "execution_count": 7,
   "metadata": {},
   "outputs": [
    {
     "output_type": "execute_result",
     "data": {
      "text/plain": "                                sum   len\n                              Price Price\nManager       Rep                        \nDebra Henley  Craig Booker    80000     4\n              Daniel Hilton  115000     3\n              John Smith      40000     2\nFred Anderson Cedric Moss    110000     4\n              Wendy Yule     177000     4",
      "text/html": "<div>\n<style scoped>\n    .dataframe tbody tr th:only-of-type {\n        vertical-align: middle;\n    }\n\n    .dataframe tbody tr th {\n        vertical-align: top;\n    }\n\n    .dataframe thead tr th {\n        text-align: left;\n    }\n\n    .dataframe thead tr:last-of-type th {\n        text-align: right;\n    }\n</style>\n<table border=\"1\" class=\"dataframe\">\n  <thead>\n    <tr>\n      <th></th>\n      <th></th>\n      <th>sum</th>\n      <th>len</th>\n    </tr>\n    <tr>\n      <th></th>\n      <th></th>\n      <th>Price</th>\n      <th>Price</th>\n    </tr>\n    <tr>\n      <th>Manager</th>\n      <th>Rep</th>\n      <th></th>\n      <th></th>\n    </tr>\n  </thead>\n  <tbody>\n    <tr>\n      <th rowspan=\"3\" valign=\"top\">Debra Henley</th>\n      <th>Craig Booker</th>\n      <td>80000</td>\n      <td>4</td>\n    </tr>\n    <tr>\n      <th>Daniel Hilton</th>\n      <td>115000</td>\n      <td>3</td>\n    </tr>\n    <tr>\n      <th>John Smith</th>\n      <td>40000</td>\n      <td>2</td>\n    </tr>\n    <tr>\n      <th rowspan=\"2\" valign=\"top\">Fred Anderson</th>\n      <th>Cedric Moss</th>\n      <td>110000</td>\n      <td>4</td>\n    </tr>\n    <tr>\n      <th>Wendy Yule</th>\n      <td>177000</td>\n      <td>4</td>\n    </tr>\n  </tbody>\n</table>\n</div>"
     },
     "metadata": {},
     "execution_count": 7
    }
   ],
   "source": [
    "pd.pivot_table(sales_funnel,index=['Manager','Rep'], values=['Price'], aggfunc=[np.sum,len]) # 평균이 아닌 sum과 length"
   ]
  },
  {
   "cell_type": "code",
   "execution_count": 8,
   "metadata": {},
   "outputs": [
    {
     "output_type": "execute_result",
     "data": {
      "text/plain": "                                  sum                             \n                                Price                             \nProduct                           CPU Maintenance Monitor Software\nManager       Rep                                                 \nDebra Henley  Craig Booker    65000.0      5000.0     NaN  10000.0\n              Daniel Hilton  105000.0         NaN     NaN  10000.0\n              John Smith      35000.0      5000.0     NaN      NaN\nFred Anderson Cedric Moss     95000.0      5000.0     NaN  10000.0\n              Wendy Yule     165000.0      7000.0  5000.0      NaN",
      "text/html": "<div>\n<style scoped>\n    .dataframe tbody tr th:only-of-type {\n        vertical-align: middle;\n    }\n\n    .dataframe tbody tr th {\n        vertical-align: top;\n    }\n\n    .dataframe thead tr th {\n        text-align: left;\n    }\n\n    .dataframe thead tr:last-of-type th {\n        text-align: right;\n    }\n</style>\n<table border=\"1\" class=\"dataframe\">\n  <thead>\n    <tr>\n      <th></th>\n      <th></th>\n      <th colspan=\"4\" halign=\"left\">sum</th>\n    </tr>\n    <tr>\n      <th></th>\n      <th></th>\n      <th colspan=\"4\" halign=\"left\">Price</th>\n    </tr>\n    <tr>\n      <th></th>\n      <th>Product</th>\n      <th>CPU</th>\n      <th>Maintenance</th>\n      <th>Monitor</th>\n      <th>Software</th>\n    </tr>\n    <tr>\n      <th>Manager</th>\n      <th>Rep</th>\n      <th></th>\n      <th></th>\n      <th></th>\n      <th></th>\n    </tr>\n  </thead>\n  <tbody>\n    <tr>\n      <th rowspan=\"3\" valign=\"top\">Debra Henley</th>\n      <th>Craig Booker</th>\n      <td>65000.0</td>\n      <td>5000.0</td>\n      <td>NaN</td>\n      <td>10000.0</td>\n    </tr>\n    <tr>\n      <th>Daniel Hilton</th>\n      <td>105000.0</td>\n      <td>NaN</td>\n      <td>NaN</td>\n      <td>10000.0</td>\n    </tr>\n    <tr>\n      <th>John Smith</th>\n      <td>35000.0</td>\n      <td>5000.0</td>\n      <td>NaN</td>\n      <td>NaN</td>\n    </tr>\n    <tr>\n      <th rowspan=\"2\" valign=\"top\">Fred Anderson</th>\n      <th>Cedric Moss</th>\n      <td>95000.0</td>\n      <td>5000.0</td>\n      <td>NaN</td>\n      <td>10000.0</td>\n    </tr>\n    <tr>\n      <th>Wendy Yule</th>\n      <td>165000.0</td>\n      <td>7000.0</td>\n      <td>5000.0</td>\n      <td>NaN</td>\n    </tr>\n  </tbody>\n</table>\n</div>"
     },
     "metadata": {},
     "execution_count": 8
    }
   ],
   "source": [
    "pd.pivot_table(sales_funnel,index=['Manager','Rep'], columns=['Product'],values=['Price'], aggfunc=[np.sum])"
   ]
  },
  {
   "cell_type": "code",
   "execution_count": 9,
   "metadata": {},
   "outputs": [
    {
     "output_type": "execute_result",
     "data": {
      "text/plain": "                                sum                             \n                              Price                             \nProduct                         CPU Maintenance Monitor Software\nManager       Rep                                               \nDebra Henley  Craig Booker    65000        5000       0    10000\n              Daniel Hilton  105000           0       0    10000\n              John Smith      35000        5000       0        0\nFred Anderson Cedric Moss     95000        5000       0    10000\n              Wendy Yule     165000        7000    5000        0",
      "text/html": "<div>\n<style scoped>\n    .dataframe tbody tr th:only-of-type {\n        vertical-align: middle;\n    }\n\n    .dataframe tbody tr th {\n        vertical-align: top;\n    }\n\n    .dataframe thead tr th {\n        text-align: left;\n    }\n\n    .dataframe thead tr:last-of-type th {\n        text-align: right;\n    }\n</style>\n<table border=\"1\" class=\"dataframe\">\n  <thead>\n    <tr>\n      <th></th>\n      <th></th>\n      <th colspan=\"4\" halign=\"left\">sum</th>\n    </tr>\n    <tr>\n      <th></th>\n      <th></th>\n      <th colspan=\"4\" halign=\"left\">Price</th>\n    </tr>\n    <tr>\n      <th></th>\n      <th>Product</th>\n      <th>CPU</th>\n      <th>Maintenance</th>\n      <th>Monitor</th>\n      <th>Software</th>\n    </tr>\n    <tr>\n      <th>Manager</th>\n      <th>Rep</th>\n      <th></th>\n      <th></th>\n      <th></th>\n      <th></th>\n    </tr>\n  </thead>\n  <tbody>\n    <tr>\n      <th rowspan=\"3\" valign=\"top\">Debra Henley</th>\n      <th>Craig Booker</th>\n      <td>65000</td>\n      <td>5000</td>\n      <td>0</td>\n      <td>10000</td>\n    </tr>\n    <tr>\n      <th>Daniel Hilton</th>\n      <td>105000</td>\n      <td>0</td>\n      <td>0</td>\n      <td>10000</td>\n    </tr>\n    <tr>\n      <th>John Smith</th>\n      <td>35000</td>\n      <td>5000</td>\n      <td>0</td>\n      <td>0</td>\n    </tr>\n    <tr>\n      <th rowspan=\"2\" valign=\"top\">Fred Anderson</th>\n      <th>Cedric Moss</th>\n      <td>95000</td>\n      <td>5000</td>\n      <td>0</td>\n      <td>10000</td>\n    </tr>\n    <tr>\n      <th>Wendy Yule</th>\n      <td>165000</td>\n      <td>7000</td>\n      <td>5000</td>\n      <td>0</td>\n    </tr>\n  </tbody>\n</table>\n</div>"
     },
     "metadata": {},
     "execution_count": 9
    }
   ],
   "source": [
    "pd.pivot_table(sales_funnel,index=['Manager','Rep'], columns=['Product'],values=['Price'], aggfunc=[np.sum], fill_value=0) # NaN 0으로"
   ]
  },
  {
   "cell_type": "code",
   "execution_count": 10,
   "metadata": {},
   "outputs": [],
   "source": [
    "import numpy as np\n",
    "import pandas as pd\n",
    "import matplotlib.pyplot as plt"
   ]
  },
  {
   "cell_type": "code",
   "execution_count": 11,
   "metadata": {},
   "outputs": [],
   "source": [
    "crime_in_seoul = pd.read_csv('data-files/b.crime-in-seoul_include_gu_name.csv', thousands=',')\n",
    "crime_in_seoul_backup = crime_in_seoul.copy()"
   ]
  },
  {
   "cell_type": "code",
   "execution_count": 12,
   "metadata": {},
   "outputs": [
    {
     "output_type": "execute_result",
     "data": {
      "text/plain": "    관서명  살인 발생  살인 검거  강도 발생  강도 검거  강간 발생  강간 검거  절도 발생  절도 검거  폭력 발생  폭력 검거  \\\n0   중부서      2      2      3      2    105     65   1395    477   1355   1170   \n1   종로서      3      3      6      5    115     98   1070    413   1278   1070   \n2  남대문서      1      0      6      4     65     46   1153    382    869    794   \n3  서대문서      2      2      5      4    154    124   1812    738   2056   1711   \n4   혜화서      3      2      5      4     96     63   1114    424   1015    861   \n\n     구별  \n0    중구  \n1   종로구  \n2    중구  \n3  서대문구  \n4   종로구  ",
      "text/html": "<div>\n<style scoped>\n    .dataframe tbody tr th:only-of-type {\n        vertical-align: middle;\n    }\n\n    .dataframe tbody tr th {\n        vertical-align: top;\n    }\n\n    .dataframe thead th {\n        text-align: right;\n    }\n</style>\n<table border=\"1\" class=\"dataframe\">\n  <thead>\n    <tr style=\"text-align: right;\">\n      <th></th>\n      <th>관서명</th>\n      <th>살인 발생</th>\n      <th>살인 검거</th>\n      <th>강도 발생</th>\n      <th>강도 검거</th>\n      <th>강간 발생</th>\n      <th>강간 검거</th>\n      <th>절도 발생</th>\n      <th>절도 검거</th>\n      <th>폭력 발생</th>\n      <th>폭력 검거</th>\n      <th>구별</th>\n    </tr>\n  </thead>\n  <tbody>\n    <tr>\n      <th>0</th>\n      <td>중부서</td>\n      <td>2</td>\n      <td>2</td>\n      <td>3</td>\n      <td>2</td>\n      <td>105</td>\n      <td>65</td>\n      <td>1395</td>\n      <td>477</td>\n      <td>1355</td>\n      <td>1170</td>\n      <td>중구</td>\n    </tr>\n    <tr>\n      <th>1</th>\n      <td>종로서</td>\n      <td>3</td>\n      <td>3</td>\n      <td>6</td>\n      <td>5</td>\n      <td>115</td>\n      <td>98</td>\n      <td>1070</td>\n      <td>413</td>\n      <td>1278</td>\n      <td>1070</td>\n      <td>종로구</td>\n    </tr>\n    <tr>\n      <th>2</th>\n      <td>남대문서</td>\n      <td>1</td>\n      <td>0</td>\n      <td>6</td>\n      <td>4</td>\n      <td>65</td>\n      <td>46</td>\n      <td>1153</td>\n      <td>382</td>\n      <td>869</td>\n      <td>794</td>\n      <td>중구</td>\n    </tr>\n    <tr>\n      <th>3</th>\n      <td>서대문서</td>\n      <td>2</td>\n      <td>2</td>\n      <td>5</td>\n      <td>4</td>\n      <td>154</td>\n      <td>124</td>\n      <td>1812</td>\n      <td>738</td>\n      <td>2056</td>\n      <td>1711</td>\n      <td>서대문구</td>\n    </tr>\n    <tr>\n      <th>4</th>\n      <td>혜화서</td>\n      <td>3</td>\n      <td>2</td>\n      <td>5</td>\n      <td>4</td>\n      <td>96</td>\n      <td>63</td>\n      <td>1114</td>\n      <td>424</td>\n      <td>1015</td>\n      <td>861</td>\n      <td>종로구</td>\n    </tr>\n  </tbody>\n</table>\n</div>"
     },
     "metadata": {},
     "execution_count": 12
    }
   ],
   "source": [
    "crime_in_seoul.head()"
   ]
  },
  {
   "cell_type": "code",
   "execution_count": 13,
   "metadata": {},
   "outputs": [],
   "source": [
    "crime_in_seoul = pd.pivot_table(crime_in_seoul, index=['구별'], aggfunc=np.sum)"
   ]
  },
  {
   "cell_type": "code",
   "execution_count": 14,
   "metadata": {},
   "outputs": [
    {
     "output_type": "execute_result",
     "data": {
      "text/plain": "     강간 검거  강간 발생  강도 검거  강도 발생  살인 검거  살인 발생  절도 검거  절도 발생  폭력 검거  폭력 발생\n구별                                                                       \n강남구    349    449     18     21     10     13   1650   3850   3705   4284\n강동구    123    156      8      6      3      4    789   2366   2248   2712\n강북구    126    153     13     14      8      7    618   1434   2348   2649\n강서구    191    262     13     13      8      7   1260   2096   2718   3207\n관악구    221    320     14     12      8      9    827   2706   2642   3298",
      "text/html": "<div>\n<style scoped>\n    .dataframe tbody tr th:only-of-type {\n        vertical-align: middle;\n    }\n\n    .dataframe tbody tr th {\n        vertical-align: top;\n    }\n\n    .dataframe thead th {\n        text-align: right;\n    }\n</style>\n<table border=\"1\" class=\"dataframe\">\n  <thead>\n    <tr style=\"text-align: right;\">\n      <th></th>\n      <th>강간 검거</th>\n      <th>강간 발생</th>\n      <th>강도 검거</th>\n      <th>강도 발생</th>\n      <th>살인 검거</th>\n      <th>살인 발생</th>\n      <th>절도 검거</th>\n      <th>절도 발생</th>\n      <th>폭력 검거</th>\n      <th>폭력 발생</th>\n    </tr>\n    <tr>\n      <th>구별</th>\n      <th></th>\n      <th></th>\n      <th></th>\n      <th></th>\n      <th></th>\n      <th></th>\n      <th></th>\n      <th></th>\n      <th></th>\n      <th></th>\n    </tr>\n  </thead>\n  <tbody>\n    <tr>\n      <th>강남구</th>\n      <td>349</td>\n      <td>449</td>\n      <td>18</td>\n      <td>21</td>\n      <td>10</td>\n      <td>13</td>\n      <td>1650</td>\n      <td>3850</td>\n      <td>3705</td>\n      <td>4284</td>\n    </tr>\n    <tr>\n      <th>강동구</th>\n      <td>123</td>\n      <td>156</td>\n      <td>8</td>\n      <td>6</td>\n      <td>3</td>\n      <td>4</td>\n      <td>789</td>\n      <td>2366</td>\n      <td>2248</td>\n      <td>2712</td>\n    </tr>\n    <tr>\n      <th>강북구</th>\n      <td>126</td>\n      <td>153</td>\n      <td>13</td>\n      <td>14</td>\n      <td>8</td>\n      <td>7</td>\n      <td>618</td>\n      <td>1434</td>\n      <td>2348</td>\n      <td>2649</td>\n    </tr>\n    <tr>\n      <th>강서구</th>\n      <td>191</td>\n      <td>262</td>\n      <td>13</td>\n      <td>13</td>\n      <td>8</td>\n      <td>7</td>\n      <td>1260</td>\n      <td>2096</td>\n      <td>2718</td>\n      <td>3207</td>\n    </tr>\n    <tr>\n      <th>관악구</th>\n      <td>221</td>\n      <td>320</td>\n      <td>14</td>\n      <td>12</td>\n      <td>8</td>\n      <td>9</td>\n      <td>827</td>\n      <td>2706</td>\n      <td>2642</td>\n      <td>3298</td>\n    </tr>\n  </tbody>\n</table>\n</div>"
     },
     "metadata": {},
     "execution_count": 14
    }
   ],
   "source": [
    "crime_in_seoul.head()"
   ]
  },
  {
   "cell_type": "code",
   "execution_count": 15,
   "metadata": {},
   "outputs": [],
   "source": [
    "# crime_in_seoul_backup.set_index(['구별']).sort_index()"
   ]
  },
  {
   "cell_type": "code",
   "execution_count": 16,
   "metadata": {},
   "outputs": [
    {
     "output_type": "execute_result",
     "data": {
      "text/plain": "      강간 검거  강간 발생  강도 검거  강도 발생  살인 검거  살인 발생  절도 검거  절도 발생  폭력 검거  폭력 발생\n구별                                                                        \n강남구     349    449     18     21     10     13   1650   3850   3705   4284\n영등포구    183    295     20     22     12     14    978   2964   2961   3572\n관악구     221    320     14     12      8      9    827   2706   2642   3298",
      "text/html": "<div>\n<style scoped>\n    .dataframe tbody tr th:only-of-type {\n        vertical-align: middle;\n    }\n\n    .dataframe tbody tr th {\n        vertical-align: top;\n    }\n\n    .dataframe thead th {\n        text-align: right;\n    }\n</style>\n<table border=\"1\" class=\"dataframe\">\n  <thead>\n    <tr style=\"text-align: right;\">\n      <th></th>\n      <th>강간 검거</th>\n      <th>강간 발생</th>\n      <th>강도 검거</th>\n      <th>강도 발생</th>\n      <th>살인 검거</th>\n      <th>살인 발생</th>\n      <th>절도 검거</th>\n      <th>절도 발생</th>\n      <th>폭력 검거</th>\n      <th>폭력 발생</th>\n    </tr>\n    <tr>\n      <th>구별</th>\n      <th></th>\n      <th></th>\n      <th></th>\n      <th></th>\n      <th></th>\n      <th></th>\n      <th></th>\n      <th></th>\n      <th></th>\n      <th></th>\n    </tr>\n  </thead>\n  <tbody>\n    <tr>\n      <th>강남구</th>\n      <td>349</td>\n      <td>449</td>\n      <td>18</td>\n      <td>21</td>\n      <td>10</td>\n      <td>13</td>\n      <td>1650</td>\n      <td>3850</td>\n      <td>3705</td>\n      <td>4284</td>\n    </tr>\n    <tr>\n      <th>영등포구</th>\n      <td>183</td>\n      <td>295</td>\n      <td>20</td>\n      <td>22</td>\n      <td>12</td>\n      <td>14</td>\n      <td>978</td>\n      <td>2964</td>\n      <td>2961</td>\n      <td>3572</td>\n    </tr>\n    <tr>\n      <th>관악구</th>\n      <td>221</td>\n      <td>320</td>\n      <td>14</td>\n      <td>12</td>\n      <td>8</td>\n      <td>9</td>\n      <td>827</td>\n      <td>2706</td>\n      <td>2642</td>\n      <td>3298</td>\n    </tr>\n  </tbody>\n</table>\n</div>"
     },
     "metadata": {},
     "execution_count": 16
    }
   ],
   "source": [
    "crime_in_seoul.sort_values(['강간 발생'], ascending=False).head(3)\n",
    "crime_in_seoul.sort_values(['강도 발생'], ascending=False).head(3)\n",
    "crime_in_seoul.sort_values(['살인 발생'], ascending=False).head(3)\n",
    "crime_in_seoul.sort_values(['절도 발생'], ascending=False).head(3)\n",
    "crime_in_seoul.sort_values(['폭력 발생'], ascending=False).head(3)"
   ]
  },
  {
   "cell_type": "code",
   "execution_count": 17,
   "metadata": {},
   "outputs": [],
   "source": [
    "crime_in_seoul['강간검거율'] = crime_in_seoul['강간 검거'] / crime_in_seoul['강간 발생']\n",
    "crime_in_seoul['강도검거율'] = crime_in_seoul['강도 검거'] / crime_in_seoul['강도 발생']\n",
    "crime_in_seoul['살인검거율'] = crime_in_seoul['살인 검거'] / crime_in_seoul['살인 발생']\n",
    "crime_in_seoul['절도검거율'] = crime_in_seoul['절도 검거'] / crime_in_seoul['절도 발생']\n",
    "crime_in_seoul['폭력검거율'] = crime_in_seoul['폭력 검거'] / crime_in_seoul['폭력 발생']"
   ]
  },
  {
   "cell_type": "code",
   "execution_count": 18,
   "metadata": {},
   "outputs": [
    {
     "output_type": "execute_result",
     "data": {
      "text/plain": "     강간 검거  강간 발생  강도 검거  강도 발생  살인 검거  살인 발생  절도 검거  절도 발생  폭력 검거  폭력 발생  \\\n구별                                                                          \n강남구    349    449     18     21     10     13   1650   3850   3705   4284   \n강동구    123    156      8      6      3      4    789   2366   2248   2712   \n강북구    126    153     13     14      8      7    618   1434   2348   2649   \n\n        강간검거율     강도검거율     살인검거율     절도검거율     폭력검거율  \n구별                                                     \n강남구  0.777283  0.857143  0.769231  0.428571  0.864846  \n강동구  0.788462  1.333333  0.750000  0.333474  0.828909  \n강북구  0.823529  0.928571  1.142857  0.430962  0.886372  ",
      "text/html": "<div>\n<style scoped>\n    .dataframe tbody tr th:only-of-type {\n        vertical-align: middle;\n    }\n\n    .dataframe tbody tr th {\n        vertical-align: top;\n    }\n\n    .dataframe thead th {\n        text-align: right;\n    }\n</style>\n<table border=\"1\" class=\"dataframe\">\n  <thead>\n    <tr style=\"text-align: right;\">\n      <th></th>\n      <th>강간 검거</th>\n      <th>강간 발생</th>\n      <th>강도 검거</th>\n      <th>강도 발생</th>\n      <th>살인 검거</th>\n      <th>살인 발생</th>\n      <th>절도 검거</th>\n      <th>절도 발생</th>\n      <th>폭력 검거</th>\n      <th>폭력 발생</th>\n      <th>강간검거율</th>\n      <th>강도검거율</th>\n      <th>살인검거율</th>\n      <th>절도검거율</th>\n      <th>폭력검거율</th>\n    </tr>\n    <tr>\n      <th>구별</th>\n      <th></th>\n      <th></th>\n      <th></th>\n      <th></th>\n      <th></th>\n      <th></th>\n      <th></th>\n      <th></th>\n      <th></th>\n      <th></th>\n      <th></th>\n      <th></th>\n      <th></th>\n      <th></th>\n      <th></th>\n    </tr>\n  </thead>\n  <tbody>\n    <tr>\n      <th>강남구</th>\n      <td>349</td>\n      <td>449</td>\n      <td>18</td>\n      <td>21</td>\n      <td>10</td>\n      <td>13</td>\n      <td>1650</td>\n      <td>3850</td>\n      <td>3705</td>\n      <td>4284</td>\n      <td>0.777283</td>\n      <td>0.857143</td>\n      <td>0.769231</td>\n      <td>0.428571</td>\n      <td>0.864846</td>\n    </tr>\n    <tr>\n      <th>강동구</th>\n      <td>123</td>\n      <td>156</td>\n      <td>8</td>\n      <td>6</td>\n      <td>3</td>\n      <td>4</td>\n      <td>789</td>\n      <td>2366</td>\n      <td>2248</td>\n      <td>2712</td>\n      <td>0.788462</td>\n      <td>1.333333</td>\n      <td>0.750000</td>\n      <td>0.333474</td>\n      <td>0.828909</td>\n    </tr>\n    <tr>\n      <th>강북구</th>\n      <td>126</td>\n      <td>153</td>\n      <td>13</td>\n      <td>14</td>\n      <td>8</td>\n      <td>7</td>\n      <td>618</td>\n      <td>1434</td>\n      <td>2348</td>\n      <td>2649</td>\n      <td>0.823529</td>\n      <td>0.928571</td>\n      <td>1.142857</td>\n      <td>0.430962</td>\n      <td>0.886372</td>\n    </tr>\n  </tbody>\n</table>\n</div>"
     },
     "metadata": {},
     "execution_count": 18
    }
   ],
   "source": [
    "crime_in_seoul.head(3)"
   ]
  },
  {
   "cell_type": "code",
   "execution_count": 19,
   "metadata": {},
   "outputs": [],
   "source": [
    "crime_in_seoul.drop(crime_in_seoul.columns[0:9:2], axis=1, inplace=True) # 0~ 9 2 차이 -> 0 2 4 6 8"
   ]
  },
  {
   "cell_type": "code",
   "execution_count": 20,
   "metadata": {},
   "outputs": [
    {
     "output_type": "execute_result",
     "data": {
      "text/plain": "     강간 발생  강도 발생  살인 발생  절도 발생  폭력 발생     강간검거율     강도검거율     살인검거율  \\\n구별                                                                     \n강남구    449     21     13   3850   4284  0.777283  0.857143  0.769231   \n강동구    156      6      4   2366   2712  0.788462  1.333333  0.750000   \n강북구    153     14      7   1434   2649  0.823529  0.928571  1.142857   \n\n        절도검거율     폭력검거율  \n구별                       \n강남구  0.428571  0.864846  \n강동구  0.333474  0.828909  \n강북구  0.430962  0.886372  ",
      "text/html": "<div>\n<style scoped>\n    .dataframe tbody tr th:only-of-type {\n        vertical-align: middle;\n    }\n\n    .dataframe tbody tr th {\n        vertical-align: top;\n    }\n\n    .dataframe thead th {\n        text-align: right;\n    }\n</style>\n<table border=\"1\" class=\"dataframe\">\n  <thead>\n    <tr style=\"text-align: right;\">\n      <th></th>\n      <th>강간 발생</th>\n      <th>강도 발생</th>\n      <th>살인 발생</th>\n      <th>절도 발생</th>\n      <th>폭력 발생</th>\n      <th>강간검거율</th>\n      <th>강도검거율</th>\n      <th>살인검거율</th>\n      <th>절도검거율</th>\n      <th>폭력검거율</th>\n    </tr>\n    <tr>\n      <th>구별</th>\n      <th></th>\n      <th></th>\n      <th></th>\n      <th></th>\n      <th></th>\n      <th></th>\n      <th></th>\n      <th></th>\n      <th></th>\n      <th></th>\n    </tr>\n  </thead>\n  <tbody>\n    <tr>\n      <th>강남구</th>\n      <td>449</td>\n      <td>21</td>\n      <td>13</td>\n      <td>3850</td>\n      <td>4284</td>\n      <td>0.777283</td>\n      <td>0.857143</td>\n      <td>0.769231</td>\n      <td>0.428571</td>\n      <td>0.864846</td>\n    </tr>\n    <tr>\n      <th>강동구</th>\n      <td>156</td>\n      <td>6</td>\n      <td>4</td>\n      <td>2366</td>\n      <td>2712</td>\n      <td>0.788462</td>\n      <td>1.333333</td>\n      <td>0.750000</td>\n      <td>0.333474</td>\n      <td>0.828909</td>\n    </tr>\n    <tr>\n      <th>강북구</th>\n      <td>153</td>\n      <td>14</td>\n      <td>7</td>\n      <td>1434</td>\n      <td>2649</td>\n      <td>0.823529</td>\n      <td>0.928571</td>\n      <td>1.142857</td>\n      <td>0.430962</td>\n      <td>0.886372</td>\n    </tr>\n  </tbody>\n</table>\n</div>"
     },
     "metadata": {},
     "execution_count": 20
    }
   ],
   "source": [
    "crime_in_seoul.head(3)"
   ]
  },
  {
   "cell_type": "code",
   "execution_count": 21,
   "metadata": {},
   "outputs": [],
   "source": [
    "# crime_in_seoul[\"강간검거율\"].sort_values(ascending=False)\n",
    "# crime_in_seoul[\"강도검거율\"].sort_values(ascending=False)\n",
    "# crime_in_seoul[\"살인검거율\"].sort_values(ascending=False)\n",
    "# crime_in_seoul[\"절도검거율\"].sort_values(ascending=False)\n",
    "# crime_in_seoul[\"폭력검거율\"].sort_values(ascending=False)"
   ]
  },
  {
   "cell_type": "code",
   "execution_count": 22,
   "metadata": {},
   "outputs": [],
   "source": [
    "for column in crime_in_seoul.columns:\n",
    "    if \"검거율\" in column:\n",
    "        crime_in_seoul.loc[crime_in_seoul[column] > 1, column] = 1"
   ]
  },
  {
   "cell_type": "code",
   "execution_count": 23,
   "metadata": {},
   "outputs": [
    {
     "output_type": "execute_result",
     "data": {
      "text/plain": "     강간 발생  강도 발생  살인 발생  절도 발생  폭력 발생     강간검거율     강도검거율     살인검거율  \\\n구별                                                                     \n강남구    449     21     13   3850   4284  0.777283  0.857143  0.769231   \n강동구    156      6      4   2366   2712  0.788462  1.000000  0.750000   \n강북구    153     14      7   1434   2649  0.823529  0.928571  1.000000   \n\n        절도검거율     폭력검거율  \n구별                       \n강남구  0.428571  0.864846  \n강동구  0.333474  0.828909  \n강북구  0.430962  0.886372  ",
      "text/html": "<div>\n<style scoped>\n    .dataframe tbody tr th:only-of-type {\n        vertical-align: middle;\n    }\n\n    .dataframe tbody tr th {\n        vertical-align: top;\n    }\n\n    .dataframe thead th {\n        text-align: right;\n    }\n</style>\n<table border=\"1\" class=\"dataframe\">\n  <thead>\n    <tr style=\"text-align: right;\">\n      <th></th>\n      <th>강간 발생</th>\n      <th>강도 발생</th>\n      <th>살인 발생</th>\n      <th>절도 발생</th>\n      <th>폭력 발생</th>\n      <th>강간검거율</th>\n      <th>강도검거율</th>\n      <th>살인검거율</th>\n      <th>절도검거율</th>\n      <th>폭력검거율</th>\n    </tr>\n    <tr>\n      <th>구별</th>\n      <th></th>\n      <th></th>\n      <th></th>\n      <th></th>\n      <th></th>\n      <th></th>\n      <th></th>\n      <th></th>\n      <th></th>\n      <th></th>\n    </tr>\n  </thead>\n  <tbody>\n    <tr>\n      <th>강남구</th>\n      <td>449</td>\n      <td>21</td>\n      <td>13</td>\n      <td>3850</td>\n      <td>4284</td>\n      <td>0.777283</td>\n      <td>0.857143</td>\n      <td>0.769231</td>\n      <td>0.428571</td>\n      <td>0.864846</td>\n    </tr>\n    <tr>\n      <th>강동구</th>\n      <td>156</td>\n      <td>6</td>\n      <td>4</td>\n      <td>2366</td>\n      <td>2712</td>\n      <td>0.788462</td>\n      <td>1.000000</td>\n      <td>0.750000</td>\n      <td>0.333474</td>\n      <td>0.828909</td>\n    </tr>\n    <tr>\n      <th>강북구</th>\n      <td>153</td>\n      <td>14</td>\n      <td>7</td>\n      <td>1434</td>\n      <td>2649</td>\n      <td>0.823529</td>\n      <td>0.928571</td>\n      <td>1.000000</td>\n      <td>0.430962</td>\n      <td>0.886372</td>\n    </tr>\n  </tbody>\n</table>\n</div>"
     },
     "metadata": {},
     "execution_count": 23
    }
   ],
   "source": [
    "crime_in_seoul.head(3)"
   ]
  },
  {
   "cell_type": "code",
   "execution_count": 24,
   "metadata": {},
   "outputs": [],
   "source": [
    "crime_in_seoul.rename(columns={'강간 발생':'강간', '강도 발생':'강도', '살인 발생':'살인','절도 발생':'절도','폭력 발생':'폭력'}, inplace=True)"
   ]
  },
  {
   "cell_type": "code",
   "execution_count": 25,
   "metadata": {},
   "outputs": [
    {
     "output_type": "execute_result",
     "data": {
      "text/plain": "      강간  강도  살인    절도    폭력     강간검거율     강도검거율     살인검거율     절도검거율     폭력검거율\n구별                                                                            \n강남구  449  21  13  3850  4284  0.777283  0.857143  0.769231  0.428571  0.864846\n강동구  156   6   4  2366  2712  0.788462  1.000000  0.750000  0.333474  0.828909\n강북구  153  14   7  1434  2649  0.823529  0.928571  1.000000  0.430962  0.886372",
      "text/html": "<div>\n<style scoped>\n    .dataframe tbody tr th:only-of-type {\n        vertical-align: middle;\n    }\n\n    .dataframe tbody tr th {\n        vertical-align: top;\n    }\n\n    .dataframe thead th {\n        text-align: right;\n    }\n</style>\n<table border=\"1\" class=\"dataframe\">\n  <thead>\n    <tr style=\"text-align: right;\">\n      <th></th>\n      <th>강간</th>\n      <th>강도</th>\n      <th>살인</th>\n      <th>절도</th>\n      <th>폭력</th>\n      <th>강간검거율</th>\n      <th>강도검거율</th>\n      <th>살인검거율</th>\n      <th>절도검거율</th>\n      <th>폭력검거율</th>\n    </tr>\n    <tr>\n      <th>구별</th>\n      <th></th>\n      <th></th>\n      <th></th>\n      <th></th>\n      <th></th>\n      <th></th>\n      <th></th>\n      <th></th>\n      <th></th>\n      <th></th>\n    </tr>\n  </thead>\n  <tbody>\n    <tr>\n      <th>강남구</th>\n      <td>449</td>\n      <td>21</td>\n      <td>13</td>\n      <td>3850</td>\n      <td>4284</td>\n      <td>0.777283</td>\n      <td>0.857143</td>\n      <td>0.769231</td>\n      <td>0.428571</td>\n      <td>0.864846</td>\n    </tr>\n    <tr>\n      <th>강동구</th>\n      <td>156</td>\n      <td>6</td>\n      <td>4</td>\n      <td>2366</td>\n      <td>2712</td>\n      <td>0.788462</td>\n      <td>1.000000</td>\n      <td>0.750000</td>\n      <td>0.333474</td>\n      <td>0.828909</td>\n    </tr>\n    <tr>\n      <th>강북구</th>\n      <td>153</td>\n      <td>14</td>\n      <td>7</td>\n      <td>1434</td>\n      <td>2649</td>\n      <td>0.823529</td>\n      <td>0.928571</td>\n      <td>1.000000</td>\n      <td>0.430962</td>\n      <td>0.886372</td>\n    </tr>\n  </tbody>\n</table>\n</div>"
     },
     "metadata": {},
     "execution_count": 25
    }
   ],
   "source": [
    "crime_in_seoul.head(3)"
   ]
  },
  {
   "cell_type": "code",
   "execution_count": 26,
   "metadata": {},
   "outputs": [
    {
     "output_type": "execute_result",
     "data": {
      "text/plain": "구별\n강남구     1.000000\n강동구     0.155620\n강북구     0.146974\n강서구     0.461095\n관악구     0.628242\n광진구     0.397695\n구로구     0.515850\n금천구     0.141210\n노원구     0.273775\n도봉구     0.000000\n동대문구    0.204611\n동작구     0.527378\n마포구     0.553314\n서대문구    0.149856\n서초구     0.838617\n성동구     0.069164\n성북구     0.138329\n송파구     0.340058\n양천구     0.051873\n영등포구    0.556196\n용산구     0.265130\n은평구     0.184438\n종로구     0.314121\n중구      0.195965\n중랑구     0.244957\nName: 강간, dtype: float64"
     },
     "metadata": {},
     "execution_count": 26
    }
   ],
   "source": [
    "mx = crime_in_seoul['강간'].max()\n",
    "mn = crime_in_seoul['강간'].min()\n",
    "(crime_in_seoul['강간'] - mn )/ (mx - mn)"
   ]
  },
  {
   "cell_type": "code",
   "execution_count": 27,
   "metadata": {},
   "outputs": [],
   "source": [
    "for idx in range(5):\n",
    "    s = crime_in_seoul.iloc[:, idx]\n",
    "    mx = s.max()\n",
    "    mn = s.min()\n",
    "    crime_in_seoul.iloc[:, idx] = (s - mn) / (mx - mn)"
   ]
  },
  {
   "cell_type": "code",
   "execution_count": 28,
   "metadata": {},
   "outputs": [
    {
     "output_type": "execute_result",
     "data": {
      "text/plain": "           강간        강도        살인        절도        폭력     강간검거율     강도검거율  \\\n구별                                                                          \n강남구  1.000000  0.941176  0.916667  1.000000  1.000000  0.777283  0.857143   \n강동구  0.155620  0.058824  0.166667  0.467528  0.437969  0.788462  1.000000   \n강북구  0.146974  0.529412  0.416667  0.133118  0.415445  0.823529  0.928571   \n\n        살인검거율     절도검거율     폭력검거율  \n구별                                 \n강남구  0.769231  0.428571  0.864846  \n강동구  0.750000  0.333474  0.828909  \n강북구  1.000000  0.430962  0.886372  ",
      "text/html": "<div>\n<style scoped>\n    .dataframe tbody tr th:only-of-type {\n        vertical-align: middle;\n    }\n\n    .dataframe tbody tr th {\n        vertical-align: top;\n    }\n\n    .dataframe thead th {\n        text-align: right;\n    }\n</style>\n<table border=\"1\" class=\"dataframe\">\n  <thead>\n    <tr style=\"text-align: right;\">\n      <th></th>\n      <th>강간</th>\n      <th>강도</th>\n      <th>살인</th>\n      <th>절도</th>\n      <th>폭력</th>\n      <th>강간검거율</th>\n      <th>강도검거율</th>\n      <th>살인검거율</th>\n      <th>절도검거율</th>\n      <th>폭력검거율</th>\n    </tr>\n    <tr>\n      <th>구별</th>\n      <th></th>\n      <th></th>\n      <th></th>\n      <th></th>\n      <th></th>\n      <th></th>\n      <th></th>\n      <th></th>\n      <th></th>\n      <th></th>\n    </tr>\n  </thead>\n  <tbody>\n    <tr>\n      <th>강남구</th>\n      <td>1.000000</td>\n      <td>0.941176</td>\n      <td>0.916667</td>\n      <td>1.000000</td>\n      <td>1.000000</td>\n      <td>0.777283</td>\n      <td>0.857143</td>\n      <td>0.769231</td>\n      <td>0.428571</td>\n      <td>0.864846</td>\n    </tr>\n    <tr>\n      <th>강동구</th>\n      <td>0.155620</td>\n      <td>0.058824</td>\n      <td>0.166667</td>\n      <td>0.467528</td>\n      <td>0.437969</td>\n      <td>0.788462</td>\n      <td>1.000000</td>\n      <td>0.750000</td>\n      <td>0.333474</td>\n      <td>0.828909</td>\n    </tr>\n    <tr>\n      <th>강북구</th>\n      <td>0.146974</td>\n      <td>0.529412</td>\n      <td>0.416667</td>\n      <td>0.133118</td>\n      <td>0.415445</td>\n      <td>0.823529</td>\n      <td>0.928571</td>\n      <td>1.000000</td>\n      <td>0.430962</td>\n      <td>0.886372</td>\n    </tr>\n  </tbody>\n</table>\n</div>"
     },
     "metadata": {},
     "execution_count": 28
    }
   ],
   "source": [
    "crime_in_seoul.head(3)"
   ]
  },
  {
   "cell_type": "code",
   "execution_count": 29,
   "metadata": {},
   "outputs": [
    {
     "output_type": "execute_result",
     "data": {
      "text/plain": "       소계       최근증가율       인구수       한국인      외국인      고령자     외국인비율  \\\n구별                                                                      \n강남구  2780  150.619195  570500.0  565550.0   4950.0  63167.0  0.867660   \n강동구   773  166.490765  453233.0  449019.0   4214.0  54622.0  0.929765   \n강북구   748  125.203252  330192.0  326686.0   3506.0  54813.0  1.061806   \n강서구   884  134.793814  603772.0  597248.0   6524.0  72548.0  1.080540   \n관악구  1496  149.290780  525515.0  507203.0  18312.0  68082.0  3.484582   \n\n         고령자비율    CCTV비율           오차  \n구별                                     \n강남구  11.072217  0.487292  1388.055355  \n강동구  12.051638  0.170552   465.422892  \n강북구  16.600342  0.226535   329.342026  \n강서구  12.015794  0.146413   551.503155  \n관악구  12.955291  0.284673   162.948104  ",
      "text/html": "<div>\n<style scoped>\n    .dataframe tbody tr th:only-of-type {\n        vertical-align: middle;\n    }\n\n    .dataframe tbody tr th {\n        vertical-align: top;\n    }\n\n    .dataframe thead th {\n        text-align: right;\n    }\n</style>\n<table border=\"1\" class=\"dataframe\">\n  <thead>\n    <tr style=\"text-align: right;\">\n      <th></th>\n      <th>소계</th>\n      <th>최근증가율</th>\n      <th>인구수</th>\n      <th>한국인</th>\n      <th>외국인</th>\n      <th>고령자</th>\n      <th>외국인비율</th>\n      <th>고령자비율</th>\n      <th>CCTV비율</th>\n      <th>오차</th>\n    </tr>\n    <tr>\n      <th>구별</th>\n      <th></th>\n      <th></th>\n      <th></th>\n      <th></th>\n      <th></th>\n      <th></th>\n      <th></th>\n      <th></th>\n      <th></th>\n      <th></th>\n    </tr>\n  </thead>\n  <tbody>\n    <tr>\n      <th>강남구</th>\n      <td>2780</td>\n      <td>150.619195</td>\n      <td>570500.0</td>\n      <td>565550.0</td>\n      <td>4950.0</td>\n      <td>63167.0</td>\n      <td>0.867660</td>\n      <td>11.072217</td>\n      <td>0.487292</td>\n      <td>1388.055355</td>\n    </tr>\n    <tr>\n      <th>강동구</th>\n      <td>773</td>\n      <td>166.490765</td>\n      <td>453233.0</td>\n      <td>449019.0</td>\n      <td>4214.0</td>\n      <td>54622.0</td>\n      <td>0.929765</td>\n      <td>12.051638</td>\n      <td>0.170552</td>\n      <td>465.422892</td>\n    </tr>\n    <tr>\n      <th>강북구</th>\n      <td>748</td>\n      <td>125.203252</td>\n      <td>330192.0</td>\n      <td>326686.0</td>\n      <td>3506.0</td>\n      <td>54813.0</td>\n      <td>1.061806</td>\n      <td>16.600342</td>\n      <td>0.226535</td>\n      <td>329.342026</td>\n    </tr>\n    <tr>\n      <th>강서구</th>\n      <td>884</td>\n      <td>134.793814</td>\n      <td>603772.0</td>\n      <td>597248.0</td>\n      <td>6524.0</td>\n      <td>72548.0</td>\n      <td>1.080540</td>\n      <td>12.015794</td>\n      <td>0.146413</td>\n      <td>551.503155</td>\n    </tr>\n    <tr>\n      <th>관악구</th>\n      <td>1496</td>\n      <td>149.290780</td>\n      <td>525515.0</td>\n      <td>507203.0</td>\n      <td>18312.0</td>\n      <td>68082.0</td>\n      <td>3.484582</td>\n      <td>12.955291</td>\n      <td>0.284673</td>\n      <td>162.948104</td>\n    </tr>\n  </tbody>\n</table>\n</div>"
     },
     "metadata": {},
     "execution_count": 29
    }
   ],
   "source": [
    "# pd.read_csv('data-files/a.cctv-in-seoul.csv', encoding='utf-8')\n",
    "# pd.read_excel('data-files/a.population-in-seoul.xls')\n",
    "pd.read_csv('data-files/a.cctv-in-seoul.csv', encoding='utf-8')\n",
    "# pd.read_excel('data-files/a.population-in-seoul.xls')\n",
    "cctv = pd.read_csv('data-files/a.cctv-result.csv', encoding='utf-8', index_col='구별') #index 구별로 맞춰야 한다.\n",
    "cctv.head()"
   ]
  },
  {
   "cell_type": "code",
   "execution_count": 30,
   "metadata": {},
   "outputs": [],
   "source": [
    "crime_in_seoul[['인구수','CCTV']] = cctv[['인구수', '소계']]  #인구수, cctv로 colname 바꾸기"
   ]
  },
  {
   "cell_type": "code",
   "execution_count": 31,
   "metadata": {},
   "outputs": [
    {
     "output_type": "execute_result",
     "data": {
      "text/plain": "           강간        강도        살인        절도        폭력     강간검거율     강도검거율  \\\n구별                                                                          \n강남구  1.000000  0.941176  0.916667  1.000000  1.000000  0.777283  0.857143   \n강동구  0.155620  0.058824  0.166667  0.467528  0.437969  0.788462  1.000000   \n강북구  0.146974  0.529412  0.416667  0.133118  0.415445  0.823529  0.928571   \n강서구  0.461095  0.470588  0.416667  0.370649  0.614945  0.729008  1.000000   \n관악구  0.628242  0.411765  0.583333  0.589523  0.647479  0.690625  1.000000   \n\n        살인검거율     절도검거율     폭력검거율       인구수  CCTV  \n구별                                                 \n강남구  0.769231  0.428571  0.864846  570500.0  2780  \n강동구  0.750000  0.333474  0.828909  453233.0   773  \n강북구  1.000000  0.430962  0.886372  330192.0   748  \n강서구  1.000000  0.601145  0.847521  603772.0   884  \n관악구  0.888889  0.305617  0.801092  525515.0  1496  ",
      "text/html": "<div>\n<style scoped>\n    .dataframe tbody tr th:only-of-type {\n        vertical-align: middle;\n    }\n\n    .dataframe tbody tr th {\n        vertical-align: top;\n    }\n\n    .dataframe thead th {\n        text-align: right;\n    }\n</style>\n<table border=\"1\" class=\"dataframe\">\n  <thead>\n    <tr style=\"text-align: right;\">\n      <th></th>\n      <th>강간</th>\n      <th>강도</th>\n      <th>살인</th>\n      <th>절도</th>\n      <th>폭력</th>\n      <th>강간검거율</th>\n      <th>강도검거율</th>\n      <th>살인검거율</th>\n      <th>절도검거율</th>\n      <th>폭력검거율</th>\n      <th>인구수</th>\n      <th>CCTV</th>\n    </tr>\n    <tr>\n      <th>구별</th>\n      <th></th>\n      <th></th>\n      <th></th>\n      <th></th>\n      <th></th>\n      <th></th>\n      <th></th>\n      <th></th>\n      <th></th>\n      <th></th>\n      <th></th>\n      <th></th>\n    </tr>\n  </thead>\n  <tbody>\n    <tr>\n      <th>강남구</th>\n      <td>1.000000</td>\n      <td>0.941176</td>\n      <td>0.916667</td>\n      <td>1.000000</td>\n      <td>1.000000</td>\n      <td>0.777283</td>\n      <td>0.857143</td>\n      <td>0.769231</td>\n      <td>0.428571</td>\n      <td>0.864846</td>\n      <td>570500.0</td>\n      <td>2780</td>\n    </tr>\n    <tr>\n      <th>강동구</th>\n      <td>0.155620</td>\n      <td>0.058824</td>\n      <td>0.166667</td>\n      <td>0.467528</td>\n      <td>0.437969</td>\n      <td>0.788462</td>\n      <td>1.000000</td>\n      <td>0.750000</td>\n      <td>0.333474</td>\n      <td>0.828909</td>\n      <td>453233.0</td>\n      <td>773</td>\n    </tr>\n    <tr>\n      <th>강북구</th>\n      <td>0.146974</td>\n      <td>0.529412</td>\n      <td>0.416667</td>\n      <td>0.133118</td>\n      <td>0.415445</td>\n      <td>0.823529</td>\n      <td>0.928571</td>\n      <td>1.000000</td>\n      <td>0.430962</td>\n      <td>0.886372</td>\n      <td>330192.0</td>\n      <td>748</td>\n    </tr>\n    <tr>\n      <th>강서구</th>\n      <td>0.461095</td>\n      <td>0.470588</td>\n      <td>0.416667</td>\n      <td>0.370649</td>\n      <td>0.614945</td>\n      <td>0.729008</td>\n      <td>1.000000</td>\n      <td>1.000000</td>\n      <td>0.601145</td>\n      <td>0.847521</td>\n      <td>603772.0</td>\n      <td>884</td>\n    </tr>\n    <tr>\n      <th>관악구</th>\n      <td>0.628242</td>\n      <td>0.411765</td>\n      <td>0.583333</td>\n      <td>0.589523</td>\n      <td>0.647479</td>\n      <td>0.690625</td>\n      <td>1.000000</td>\n      <td>0.888889</td>\n      <td>0.305617</td>\n      <td>0.801092</td>\n      <td>525515.0</td>\n      <td>1496</td>\n    </tr>\n  </tbody>\n</table>\n</div>"
     },
     "metadata": {},
     "execution_count": 31
    }
   ],
   "source": [
    "crime_in_seoul.head()"
   ]
  },
  {
   "cell_type": "code",
   "execution_count": 32,
   "metadata": {},
   "outputs": [],
   "source": [
    "crime_in_seoul['범죄'] = crime_in_seoul.iloc[:,:5].sum(axis=1)\n",
    "crime_in_seoul['검거'] = crime_in_seoul.iloc[:,5:10].sum(axis=1)"
   ]
  },
  {
   "cell_type": "code",
   "execution_count": 33,
   "metadata": {},
   "outputs": [
    {
     "output_type": "execute_result",
     "data": {
      "text/plain": "           강간        강도        살인        절도        폭력     강간검거율     강도검거율  \\\n구별                                                                          \n강남구  1.000000  0.941176  0.916667  1.000000  1.000000  0.777283  0.857143   \n강동구  0.155620  0.058824  0.166667  0.467528  0.437969  0.788462  1.000000   \n강북구  0.146974  0.529412  0.416667  0.133118  0.415445  0.823529  0.928571   \n강서구  0.461095  0.470588  0.416667  0.370649  0.614945  0.729008  1.000000   \n관악구  0.628242  0.411765  0.583333  0.589523  0.647479  0.690625  1.000000   \n\n        살인검거율     절도검거율     폭력검거율       인구수  CCTV        범죄        검거  \n구별                                                                     \n강남구  0.769231  0.428571  0.864846  570500.0  2780  4.857843  3.697074  \n강동구  0.750000  0.333474  0.828909  453233.0   773  1.286607  3.700844  \n강북구  1.000000  0.430962  0.886372  330192.0   748  1.641616  4.069435  \n강서구  1.000000  0.601145  0.847521  603772.0   884  2.333944  4.177674  \n관악구  0.888889  0.305617  0.801092  525515.0  1496  2.860342  3.686223  ",
      "text/html": "<div>\n<style scoped>\n    .dataframe tbody tr th:only-of-type {\n        vertical-align: middle;\n    }\n\n    .dataframe tbody tr th {\n        vertical-align: top;\n    }\n\n    .dataframe thead th {\n        text-align: right;\n    }\n</style>\n<table border=\"1\" class=\"dataframe\">\n  <thead>\n    <tr style=\"text-align: right;\">\n      <th></th>\n      <th>강간</th>\n      <th>강도</th>\n      <th>살인</th>\n      <th>절도</th>\n      <th>폭력</th>\n      <th>강간검거율</th>\n      <th>강도검거율</th>\n      <th>살인검거율</th>\n      <th>절도검거율</th>\n      <th>폭력검거율</th>\n      <th>인구수</th>\n      <th>CCTV</th>\n      <th>범죄</th>\n      <th>검거</th>\n    </tr>\n    <tr>\n      <th>구별</th>\n      <th></th>\n      <th></th>\n      <th></th>\n      <th></th>\n      <th></th>\n      <th></th>\n      <th></th>\n      <th></th>\n      <th></th>\n      <th></th>\n      <th></th>\n      <th></th>\n      <th></th>\n      <th></th>\n    </tr>\n  </thead>\n  <tbody>\n    <tr>\n      <th>강남구</th>\n      <td>1.000000</td>\n      <td>0.941176</td>\n      <td>0.916667</td>\n      <td>1.000000</td>\n      <td>1.000000</td>\n      <td>0.777283</td>\n      <td>0.857143</td>\n      <td>0.769231</td>\n      <td>0.428571</td>\n      <td>0.864846</td>\n      <td>570500.0</td>\n      <td>2780</td>\n      <td>4.857843</td>\n      <td>3.697074</td>\n    </tr>\n    <tr>\n      <th>강동구</th>\n      <td>0.155620</td>\n      <td>0.058824</td>\n      <td>0.166667</td>\n      <td>0.467528</td>\n      <td>0.437969</td>\n      <td>0.788462</td>\n      <td>1.000000</td>\n      <td>0.750000</td>\n      <td>0.333474</td>\n      <td>0.828909</td>\n      <td>453233.0</td>\n      <td>773</td>\n      <td>1.286607</td>\n      <td>3.700844</td>\n    </tr>\n    <tr>\n      <th>강북구</th>\n      <td>0.146974</td>\n      <td>0.529412</td>\n      <td>0.416667</td>\n      <td>0.133118</td>\n      <td>0.415445</td>\n      <td>0.823529</td>\n      <td>0.928571</td>\n      <td>1.000000</td>\n      <td>0.430962</td>\n      <td>0.886372</td>\n      <td>330192.0</td>\n      <td>748</td>\n      <td>1.641616</td>\n      <td>4.069435</td>\n    </tr>\n    <tr>\n      <th>강서구</th>\n      <td>0.461095</td>\n      <td>0.470588</td>\n      <td>0.416667</td>\n      <td>0.370649</td>\n      <td>0.614945</td>\n      <td>0.729008</td>\n      <td>1.000000</td>\n      <td>1.000000</td>\n      <td>0.601145</td>\n      <td>0.847521</td>\n      <td>603772.0</td>\n      <td>884</td>\n      <td>2.333944</td>\n      <td>4.177674</td>\n    </tr>\n    <tr>\n      <th>관악구</th>\n      <td>0.628242</td>\n      <td>0.411765</td>\n      <td>0.583333</td>\n      <td>0.589523</td>\n      <td>0.647479</td>\n      <td>0.690625</td>\n      <td>1.000000</td>\n      <td>0.888889</td>\n      <td>0.305617</td>\n      <td>0.801092</td>\n      <td>525515.0</td>\n      <td>1496</td>\n      <td>2.860342</td>\n      <td>3.686223</td>\n    </tr>\n  </tbody>\n</table>\n</div>"
     },
     "metadata": {},
     "execution_count": 33
    }
   ],
   "source": [
    "crime_in_seoul.head()"
   ]
  },
  {
   "cell_type": "code",
   "execution_count": 34,
   "metadata": {
    "tags": []
   },
   "outputs": [],
   "source": [
    "# (crime_in_seoul['인구수'] / crime_in_seoul['범죄']).sort_values(ascending=False)\n",
    "# print(crime_in_seoul['범죄'].sort_values(ascending=False))\n",
    "# print(crime_in_seoul['CCTV'].sort_values(ascending=False))"
   ]
  },
  {
   "cell_type": "code",
   "execution_count": 35,
   "metadata": {},
   "outputs": [
    {
     "output_type": "execute_result",
     "data": {
      "text/plain": "            범죄      CCTV       인구수\n범죄    1.000000  0.286454  0.469980\nCCTV  0.286454  1.000000  0.306342\n인구수   0.469980  0.306342  1.000000",
      "text/html": "<div>\n<style scoped>\n    .dataframe tbody tr th:only-of-type {\n        vertical-align: middle;\n    }\n\n    .dataframe tbody tr th {\n        vertical-align: top;\n    }\n\n    .dataframe thead th {\n        text-align: right;\n    }\n</style>\n<table border=\"1\" class=\"dataframe\">\n  <thead>\n    <tr style=\"text-align: right;\">\n      <th></th>\n      <th>범죄</th>\n      <th>CCTV</th>\n      <th>인구수</th>\n    </tr>\n  </thead>\n  <tbody>\n    <tr>\n      <th>범죄</th>\n      <td>1.000000</td>\n      <td>0.286454</td>\n      <td>0.469980</td>\n    </tr>\n    <tr>\n      <th>CCTV</th>\n      <td>0.286454</td>\n      <td>1.000000</td>\n      <td>0.306342</td>\n    </tr>\n    <tr>\n      <th>인구수</th>\n      <td>0.469980</td>\n      <td>0.306342</td>\n      <td>1.000000</td>\n    </tr>\n  </tbody>\n</table>\n</div>"
     },
     "metadata": {},
     "execution_count": 35
    }
   ],
   "source": [
    "# crime_in_seoul[['범죄','CCTV']].head()\n",
    "crime_in_seoul[['범죄','CCTV']].head()\n",
    "crime_in_seoul[['범죄','CCTV', '인구수']].corr() # 상관계수: -1 ~ 1의 값 # 둘의 인과관계가 아닌, 범죄가 올라가면 cctv도 올라가는가? 의 질문임. 같은 변화의 이유가 제 3의 요인때문일 수도 있음"
   ]
  },
  {
   "cell_type": "code",
   "execution_count": 37,
   "metadata": {},
   "outputs": [],
   "source": [
    "crime_in_seoul.to_csv('data-files/b.normed-crime-in-seoul.csv', encoding='utf-8')"
   ]
  },
  {
   "cell_type": "code",
   "execution_count": null,
   "metadata": {},
   "outputs": [],
   "source": []
  }
 ],
 "metadata": {
  "language_info": {
   "codemirror_mode": {
    "name": "ipython",
    "version": 3
   },
   "file_extension": ".py",
   "mimetype": "text/x-python",
   "name": "python",
   "nbconvert_exporter": "python",
   "pygments_lexer": "ipython3",
   "version": "3.6.10-final"
  },
  "orig_nbformat": 2,
  "kernelspec": {
   "name": "python361064bithoseoconda78849c8c42504bfc91e9e5131e728d2c",
   "display_name": "Python 3.6.10 64-bit ('hoseo': conda)"
  }
 },
 "nbformat": 4,
 "nbformat_minor": 2
}