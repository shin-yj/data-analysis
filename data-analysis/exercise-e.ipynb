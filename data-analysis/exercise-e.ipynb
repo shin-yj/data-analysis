{
 "cells": [
  {
   "cell_type": "code",
   "execution_count": 62,
   "metadata": {},
   "outputs": [],
   "source": [
    "import numpy as np"
   ]
  },
  {
   "cell_type": "code",
   "execution_count": 63,
   "metadata": {},
   "outputs": [
    {
     "name": "stdout",
     "output_type": "stream",
     "text": [
      "[1, 2, 3, 4]\n",
      "[1. 2. 3. 4.]\n"
     ]
    }
   ],
   "source": [
    "a= [1,2,3,4]\n",
    "npa = np.array(a, dtype = np.float32) # type을 float32로\n",
    "\n",
    "print(a)\n",
    "print(npa) # numpy의 array, 표현하는 방법이 조금 다르다 -> 좋은 도구를 쓴다고 생각!"
   ]
  },
  {
   "cell_type": "code",
   "execution_count": 64,
   "metadata": {},
   "outputs": [
    {
     "data": {
      "text/plain": [
       "array([1., 2., 3., 4.], dtype=float32)"
      ]
     },
     "execution_count": 64,
     "metadata": {},
     "output_type": "execute_result"
    }
   ],
   "source": [
    "npa"
   ]
  },
  {
   "cell_type": "code",
   "execution_count": 65,
   "metadata": {},
   "outputs": [
    {
     "data": {
      "text/plain": [
       "dtype('float32')"
      ]
     },
     "execution_count": 65,
     "metadata": {},
     "output_type": "execute_result"
    }
   ],
   "source": [
    "npa.dtype # 어떤 자료형으로 만들어졌는지"
   ]
  },
  {
   "cell_type": "code",
   "execution_count": null,
   "metadata": {},
   "outputs": [],
   "source": [
    "    "
   ]
  },
  {
   "cell_type": "code",
   "execution_count": 66,
   "metadata": {},
   "outputs": [],
   "source": [
    "d= [ [1,2,3],[4,5,6],[7,8,9]]\n",
    "npd = np.array(d)"
   ]
  },
  {
   "cell_type": "code",
   "execution_count": 67,
   "metadata": {},
   "outputs": [
    {
     "name": "stdout",
     "output_type": "stream",
     "text": [
      "2\n",
      "(3, 3)\n"
     ]
    },
    {
     "data": {
      "text/plain": [
       "array([[1, 2, 3],\n",
       "       [4, 5, 6],\n",
       "       [7, 8, 9]])"
      ]
     },
     "execution_count": 67,
     "metadata": {},
     "output_type": "execute_result"
    }
   ],
   "source": [
    "print(npd.ndim) # 차원\n",
    "print(npd.shape)\n",
    "npd"
   ]
  },
  {
   "cell_type": "code",
   "execution_count": 68,
   "metadata": {},
   "outputs": [
    {
     "data": {
      "text/plain": [
       "array([[1, 1, 1, 1, 1],\n",
       "       [1, 1, 1, 1, 1],\n",
       "       [1, 1, 1, 1, 1],\n",
       "       [1, 1, 1, 1, 1],\n",
       "       [1, 1, 1, 1, 1],\n",
       "       [1, 1, 1, 1, 1],\n",
       "       [1, 1, 1, 1, 1]])"
      ]
     },
     "execution_count": 68,
     "metadata": {},
     "output_type": "execute_result"
    }
   ],
   "source": [
    "npe = np.empty([7, 5]) # 7x5 행렬인데 empty한 상태로(비워져 있는 상태로)\n",
    "npe = np.zeros([7, 5], dtype=np.int32) # 모든 원소 0\n",
    "npe = np.ones([7, 5], dtype=np.int32) # 모든 원소 1\n",
    "npe"
   ]
  },
  {
   "cell_type": "code",
   "execution_count": 69,
   "metadata": {},
   "outputs": [
    {
     "data": {
      "text/plain": [
       "array([[0, 0, 0, 0, 0],\n",
       "       [0, 0, 0, 0, 0],\n",
       "       [0, 0, 0, 0, 0],\n",
       "       [0, 0, 0, 0, 0],\n",
       "       [0, 0, 0, 0, 0],\n",
       "       [0, 0, 0, 0, 0],\n",
       "       [0, 0, 0, 0, 0]])"
      ]
     },
     "execution_count": 69,
     "metadata": {},
     "output_type": "execute_result"
    }
   ],
   "source": [
    "npe = np.zeros([7, 5], dtype=np.int32) # 7 x 5, type= 0으로 초기화 해달라\n",
    "npe"
   ]
  },
  {
   "cell_type": "code",
   "execution_count": 70,
   "metadata": {},
   "outputs": [
    {
     "data": {
      "text/plain": [
       "array([1, 3, 5, 7, 9])"
      ]
     },
     "execution_count": 70,
     "metadata": {},
     "output_type": "execute_result"
    }
   ],
   "source": [
    "f = range(1, 10)\n",
    "npf = np.arange(1, 10)\n",
    "npf = np.arange(1, 10, 2)\n",
    "npf"
   ]
  },
  {
   "cell_type": "code",
   "execution_count": 71,
   "metadata": {},
   "outputs": [
    {
     "data": {
      "text/plain": [
       "array([0. , 2.5, 5. , 7.5])"
      ]
     },
     "execution_count": 71,
     "metadata": {},
     "output_type": "execute_result"
    }
   ],
   "source": [
    "npg = np.linspace(0, 10, num=4,endpoint = False) #간격을 최대한 유사하게 # endpoint는 소수점 지저분한거 지움\n",
    "npg"
   ]
  },
  {
   "cell_type": "code",
   "execution_count": 72,
   "metadata": {},
   "outputs": [
    {
     "name": "stdout",
     "output_type": "stream",
     "text": [
      "4\n",
      "[2 3 4]\n",
      "[2 3 4 5 6 7 8 9]\n",
      "[0 1 2 3 4 5 6 7 8 9]\n",
      "[0 3 6 9]\n"
     ]
    }
   ],
   "source": [
    "nph = np.arange(10)\n",
    "print(nph[4]) # indexing, 단일값\n",
    "print(nph[2:5])\n",
    "print(nph[2:])\n",
    "print(nph[:])\n",
    "print(nph[::3])"
   ]
  },
  {
   "cell_type": "code",
   "execution_count": 73,
   "metadata": {},
   "outputs": [],
   "source": [
    "nph[:3] = [10, 20, 30] # nph는 원본 데이터가 바뀌지 않음 (0~9에서 0,1,2만 바뀌고 나머지 그대로) / 원래같았으면 10,20,30"
   ]
  },
  {
   "cell_type": "code",
   "execution_count": 74,
   "metadata": {},
   "outputs": [
    {
     "data": {
      "text/plain": [
       "array([10, 20, 30,  3,  4,  5,  6,  7,  8,  9])"
      ]
     },
     "execution_count": 74,
     "metadata": {},
     "output_type": "execute_result"
    }
   ],
   "source": [
    "nph"
   ]
  },
  {
   "cell_type": "code",
   "execution_count": 75,
   "metadata": {},
   "outputs": [
    {
     "data": {
      "text/plain": [
       "array([ 4,  8, 12])"
      ]
     },
     "execution_count": 75,
     "metadata": {},
     "output_type": "execute_result"
    }
   ],
   "source": [
    "#h = [ [1,2,3,4],[5,6,7,8],[9,10,11,12] ]\n",
    "#nph = np.array(h)\n",
    "nph = np.arange(1,13).reshape( (3,4) ) # 3행 4열로 만들어 주세요\n",
    "nph[1]\n",
    "#nph[0:2]\n",
    "#nph[1][1] \n",
    "#nph[1,2] #1행 2열, [][]과 비슷하지만 행렬처럼 들어간다\n",
    "nph[:2, 2:]\n",
    "nph[:, 3] # 행은 다이면서 열은 3열"
   ]
  },
  {
   "cell_type": "code",
   "execution_count": 76,
   "metadata": {},
   "outputs": [
    {
     "name": "stdout",
     "output_type": "stream",
     "text": [
      "2\n",
      "[3 4 5]\n",
      "[ 1  5  7 10]\n"
     ]
    }
   ],
   "source": [
    "npi = np.arange(1, 13)\n",
    "print(npi[1])\n",
    "print(npi[2:5])\n",
    "print(npi[[0, 4, 6, 9]]) # 여러개의 원소 뽑아오기"
   ]
  },
  {
   "cell_type": "code",
   "execution_count": null,
   "metadata": {},
   "outputs": [],
   "source": []
  },
  {
   "cell_type": "code",
   "execution_count": 84,
   "metadata": {},
   "outputs": [
    {
     "data": {
      "text/plain": [
       "array([[ 1,  2,  3],\n",
       "       [ 4,  5,  6],\n",
       "       [ 7,  8,  9],\n",
       "       [10, 11, 12]])"
      ]
     },
     "execution_count": 84,
     "metadata": {},
     "output_type": "execute_result"
    }
   ],
   "source": [
    "npi = np.arange(1, 13).reshape((4,3)) # 4행 3열, 2차원\n",
    "npi"
   ]
  },
  {
   "cell_type": "code",
   "execution_count": 78,
   "metadata": {},
   "outputs": [
    {
     "data": {
      "text/plain": [
       "array([ 1,  3, 10, 12])"
      ]
     },
     "execution_count": 78,
     "metadata": {},
     "output_type": "execute_result"
    }
   ],
   "source": [
    "rows = np.array([0, 0, 3, 3]) # rows의 차원 # 위치값을 리스트로 주는 것과 같다 \n",
    "cols = np.array([0, 2, 0, 2]) # 0행 0열, 0행 2열, 3행 0열, 3행 2열\n",
    "npi[rows,cols] # 1차원이면 rows만, 2차원이므로 cols도 주기"
   ]
  },
  {
   "cell_type": "code",
   "execution_count": 81,
   "metadata": {},
   "outputs": [
    {
     "data": {
      "text/plain": [
       "array([[ 1,  3],\n",
       "       [10, 12]])"
      ]
     },
     "execution_count": 81,
     "metadata": {},
     "output_type": "execute_result"
    }
   ],
   "source": [
    "rows = np.array([[0, 0], [3,3]]) # 2차원이므로 [[]]\n",
    "cols = np.array([[0,2], [0,2]])\n",
    "npi[rows, cols]"
   ]
  },
  {
   "cell_type": "code",
   "execution_count": 85,
   "metadata": {},
   "outputs": [
    {
     "data": {
      "text/plain": [
       "array([0, 1, 2, 3, 4, 5, 6, 7, 8, 9])"
      ]
     },
     "execution_count": 85,
     "metadata": {},
     "output_type": "execute_result"
    }
   ],
   "source": [
    "npj = np.arange(10)\n",
    "npj"
   ]
  },
  {
   "cell_type": "code",
   "execution_count": 87,
   "metadata": {},
   "outputs": [
    {
     "data": {
      "text/plain": [
       "array([ True,  True,  True,  True,  True, False, False, False, False,\n",
       "       False])"
      ]
     },
     "execution_count": 87,
     "metadata": {},
     "output_type": "execute_result"
    }
   ],
   "source": [
    "npj < 5"
   ]
  },
  {
   "cell_type": "code",
   "execution_count": 86,
   "metadata": {},
   "outputs": [
    {
     "data": {
      "text/plain": [
       "array([0, 1, 2, 3, 4])"
      ]
     },
     "execution_count": 86,
     "metadata": {},
     "output_type": "execute_result"
    }
   ],
   "source": [
    "npj[npj <5 ]"
   ]
  },
  {
   "cell_type": "code",
   "execution_count": 91,
   "metadata": {},
   "outputs": [
    {
     "data": {
      "text/plain": [
       "array([0, 1, 3, 5, 7])"
      ]
     },
     "execution_count": 91,
     "metadata": {},
     "output_type": "execute_result"
    }
   ],
   "source": [
    "npj[[True,True, False, True, \n",
    "     False, True,False, True, False, False]] # true면 나옴"
   ]
  },
  {
   "cell_type": "code",
   "execution_count": 93,
   "metadata": {},
   "outputs": [
    {
     "name": "stdout",
     "output_type": "stream",
     "text": [
      "[ 1.  2. nan  4.  5. nan  6.]\n",
      "[nan nan]\n",
      "[1. 2. 4. 5. 6.]\n"
     ]
    }
   ],
   "source": [
    "npk = np.array([1, 2, np.nan, 4, 5, np.nan, 6]) #nan = 결측치 처리, not a number\n",
    "print(npk)\n",
    "print(npk[np.isnan(npk)]) # nan 들어있느냐\n",
    "print(npk[~np.isnan(npk)]) # not nan 뽑기"
   ]
  },
  {
   "cell_type": "code",
   "execution_count": 96,
   "metadata": {},
   "outputs": [
    {
     "data": {
      "text/plain": [
       "array([ 5,  6,  7,  8,  9, 10, 11, 12, 13, 14])"
      ]
     },
     "execution_count": 96,
     "metadata": {},
     "output_type": "execute_result"
    }
   ],
   "source": [
    "npl = np.arange(10)\n",
    "# npl\n",
    "npl + 5 # npl + ([5] * 10 -> [5,5,5,5,5,5,5,5,5,5,5,5])과 같다"
   ]
  },
  {
   "cell_type": "code",
   "execution_count": 97,
   "metadata": {},
   "outputs": [
    {
     "data": {
      "text/plain": [
       "array([[ 1.,  2.,  3.],\n",
       "       [11., 12., 13.],\n",
       "       [21., 22., 23.],\n",
       "       [31., 32., 33.]])"
      ]
     },
     "execution_count": 97,
     "metadata": {},
     "output_type": "execute_result"
    }
   ],
   "source": [
    "a = np.array([[0.0,0.0,0.0],[10.0,10.0,10.0],[20.0,20.0,20.0],[30.0,30.0,30.0]])\n",
    "b = np.array([1.0,2.0,3.0])\n",
    "a+b\n"
   ]
  },
  {
   "cell_type": "code",
   "execution_count": 169,
   "metadata": {},
   "outputs": [
    {
     "data": {
      "text/plain": [
       "array([1, 2, 3, 4, 5, 6, 7, 8, 9])"
      ]
     },
     "execution_count": 169,
     "metadata": {},
     "output_type": "execute_result"
    }
   ],
   "source": [
    "np.arange(1, 10, 2)\n",
    "np.array([1, 2, 3, 4, 5, 6, 7, 8, 9])"
   ]
  },
  {
   "cell_type": "code",
   "execution_count": 170,
   "metadata": {},
   "outputs": [
    {
     "name": "stdout",
     "output_type": "stream",
     "text": [
      "['620', '13', '13,095', '2,198', '9,135', '7,173', '11,941', '12,507', '17,471', '25,104', '16,819', '23,527', '16,366', '22,714', '17,629', '25,220', '21,258', '25,909', '22,664', '24,403', '23,524', '23,966', '24,632', '22,634', '25,447', '19,352', '25,133', '19,093', '24,186', '18,922', '16,973', '20,328', '13,729', '14,643', '13,253', '10,925', '10,893', '10,333', '4,659', '10,298', '25', '1,012', '0', '0', '0', '0', '0', '0']\n",
      "['620' '13' '13,095' '2,198' '9,135' '7,173' '11,941' '12,507' '17,471'\n",
      " '25,104' '16,819' '23,527' '16,366' '22,714' '17,629' '25,220' '21,258'\n",
      " '25,909' '22,664' '24,403' '23,524' '23,966' '24,632' '22,634' '25,447'\n",
      " '19,352' '25,133' '19,093' '24,186' '18,922' '16,973' '20,328' '13,729'\n",
      " '14,643' '13,253' '10,925' '10,893' '10,333' '4,659' '10,298' '25'\n",
      " '1,012' '0' '0' '0' '0' '0' '0']\n"
     ]
    }
   ],
   "source": [
    "# 4열~ 52열까지의 데이터를 읽어서 Numpy 배열로 만드세요\n",
    "import csv\n",
    "\n",
    "with open('data-files/subway-data.csv', encoding='utf-8') as f:\n",
    "    reader = csv.reader(f)\n",
    "    next(reader)\n",
    "    next(reader)\n",
    "    \n",
    "import numpy as np\n",
    "frow = row[4:52]\n",
    "print(frow)\n",
    "floatrow= np.array(frow)\n",
    "print(floatrow)"
   ]
  },
  {
   "cell_type": "code",
   "execution_count": 159,
   "metadata": {},
   "outputs": [],
   "source": [
    "# 선생님\n",
    "with open('data-files/subway-data.csv', encoding='utf-8') as f:\n",
    "    reader = csv.reader(f)\n",
    "    \n",
    "    subway_data_list"
   ]
  },
  {
   "cell_type": "code",
   "execution_count": null,
   "metadata": {},
   "outputs": [],
   "source": [
    "subway_data_list[2]"
   ]
  },
  {
   "cell_type": "code",
   "execution_count": 161,
   "metadata": {},
   "outputs": [],
   "source": [
    "import numpy as np\n",
    "subway_data_array = np.array(subway_data_list[2:])"
   ]
  },
  {
   "cell_type": "code",
   "execution_count": 162,
   "metadata": {},
   "outputs": [
    {
     "name": "stdout",
     "output_type": "stream",
     "text": [
      "2\n",
      "(597, 53)\n"
     ]
    },
    {
     "data": {
      "text/plain": [
       "array([['813', '16', '8,478', '5,920', '10,736', '37,191', '29,922',\n",
       "        '80,358', '53,921', '170,533', '39,251', '114,126', '38,103',\n",
       "        '55,958', '46,762', '47,869', '55,232', '49,303', '57,055',\n",
       "        '51,283', '48,828', '49,860', '64,421', '50,831', '71,948',\n",
       "        '51,102', '115,171', '60,380', '176,221', '63,184', '86,920',\n",
       "        '45,583', '61,811', '31,079', '59,285', '25,122', '41,290',\n",
       "        '18,647', '15,258', '10,959', '11', '1,427', '0', '0', '0', '0',\n",
       "        '0', '0'],\n",
       "       ['30', '1', '1,557', '3,131', '2,914', '15,686', '5,627',\n",
       "        '57,041', '6,957', '138,115', '7,841', '67,596', '8,553',\n",
       "        '27,971', '12,095', '26,249', '13,668', '22,574', '17,272',\n",
       "        '22,013', '22,049', '18,517', '28,018', '16,094', '32,000',\n",
       "        '13,771', '59,053', '14,576', '115,293', '15,487', '46,640',\n",
       "        '7,610', '34,966', '4,267', '34,047', '3,807', '22,202', '2,630',\n",
       "        '7,325', '1,755', '5', '143', '0', '1', '0', '1', '0', '0']],\n",
       "      dtype='<U19')"
      ]
     },
     "execution_count": 162,
     "metadata": {},
     "output_type": "execute_result"
    }
   ],
   "source": [
    "print(subway_data_array.ndim)\n",
    "print(subway_data_array.shape)\n",
    "subway_data_array[:2]\n",
    "subway_data_array2 = subway_data_array[:, 4:-1] # 행, 열\n",
    "subway_data_array2[:2]"
   ]
  },
  {
   "cell_type": "code",
   "execution_count": null,
   "metadata": {},
   "outputs": [],
   "source": [
    "# !pip install pandas"
   ]
  },
  {
   "cell_type": "code",
   "execution_count": 177,
   "metadata": {},
   "outputs": [],
   "source": [
    "import csv\n",
    "\n",
    "with open('data-files/subway-data.csv', encoding=\"utf-8\") as f:\n",
    "    reader = csv.reader(f)\n",
    "    next(reader)\n",
    "    next(reader)\n",
    "    \n",
    "    with open('data-files/subway-data-modified.csv', 'w', encoding=\"utf-8\") as f2:        \n",
    "        for idx, row in enumerate(reader):\n",
    "            row2 = map(lambda x: x.replace(\",\", \"\"), row)\n",
    "            f2.write(\",\".join(list(row2)))\n",
    "            f2.write('\\n')\n",
    "            "
   ]
  },
  {
   "cell_type": "code",
   "execution_count": 179,
   "metadata": {},
   "outputs": [
    {
     "data": {
      "text/plain": [
       "array([['2020-05', '1호선', '0150', ..., '0', '0', '2020-06-03 11:49:09'],\n",
       "       ['2020-05', '1호선', '0151', ..., '0', '0', '2020-06-03 11:49:09'],\n",
       "       ['2020-05', '1호선', '0152', ..., '0', '0', '2020-06-03 11:49:09'],\n",
       "       ...,\n",
       "       ['2020-05', '우이신설선', '4711', ..., '0', '0', '2020-06-03 11:49:09'],\n",
       "       ['2020-05', '우이신설선', '4712', ..., '0', '0', '2020-06-03 11:49:09'],\n",
       "       ['2020-05', '우이신설선', '4713', ..., '0', '0', '2020-06-03 11:49:09']],\n",
       "      dtype='<U19')"
      ]
     },
     "execution_count": 179,
     "metadata": {},
     "output_type": "execute_result"
    }
   ],
   "source": [
    "import numpy as np\n",
    "\n",
    "ar = np.genfromtxt('data-files/subway-data-modified.csv', delimiter= ',', encoding= 'utf-8', dtype='U')\n",
    "ar"
   ]
  },
  {
   "cell_type": "code",
   "execution_count": 180,
   "metadata": {},
   "outputs": [
    {
     "data": {
      "text/plain": [
       "array([['813', '16', '8478', ..., '0', '0', '0'],\n",
       "       ['30', '1', '1557', ..., '1', '0', '0'],\n",
       "       ['75', '4', '3014', ..., '1', '0', '0'],\n",
       "       ...,\n",
       "       ['11', '1', '748', ..., '0', '0', '0'],\n",
       "       ['2', '0', '350', ..., '0', '0', '0'],\n",
       "       ['20', '0', '892', ..., '0', '0', '0']], dtype='<U19')"
      ]
     },
     "execution_count": 180,
     "metadata": {},
     "output_type": "execute_result"
    }
   ],
   "source": [
    "ar[:, 4:-1]"
   ]
  },
  {
   "cell_type": "code",
   "execution_count": 165,
   "metadata": {},
   "outputs": [],
   "source": [
    "import pandas as pd"
   ]
  },
  {
   "cell_type": "code",
   "execution_count": 167,
   "metadata": {},
   "outputs": [],
   "source": [
    "df = pd.read_csv('data-files/subway-data.csv', encoding ='utf-8', skiprows=2)"
   ]
  },
  {
   "cell_type": "code",
   "execution_count": 168,
   "metadata": {},
   "outputs": [
    {
     "data": {
      "text/html": [
       "<div>\n",
       "<style scoped>\n",
       "    .dataframe tbody tr th:only-of-type {\n",
       "        vertical-align: middle;\n",
       "    }\n",
       "\n",
       "    .dataframe tbody tr th {\n",
       "        vertical-align: top;\n",
       "    }\n",
       "\n",
       "    .dataframe thead th {\n",
       "        text-align: right;\n",
       "    }\n",
       "</style>\n",
       "<table border=\"1\" class=\"dataframe\">\n",
       "  <thead>\n",
       "    <tr style=\"text-align: right;\">\n",
       "      <th></th>\n",
       "      <th>2020-05</th>\n",
       "      <th>1호선</th>\n",
       "      <th>0150</th>\n",
       "      <th>서울역</th>\n",
       "      <th>813</th>\n",
       "      <th>16</th>\n",
       "      <th>8,478</th>\n",
       "      <th>5,920</th>\n",
       "      <th>10,736</th>\n",
       "      <th>37,191</th>\n",
       "      <th>...</th>\n",
       "      <th>10,959</th>\n",
       "      <th>11</th>\n",
       "      <th>1,427</th>\n",
       "      <th>0</th>\n",
       "      <th>0.1</th>\n",
       "      <th>0.2</th>\n",
       "      <th>0.3</th>\n",
       "      <th>0.4</th>\n",
       "      <th>0.5</th>\n",
       "      <th>2020-06-03 11:49:09</th>\n",
       "    </tr>\n",
       "  </thead>\n",
       "  <tbody>\n",
       "    <tr>\n",
       "      <th>0</th>\n",
       "      <td>2020-05</td>\n",
       "      <td>1호선</td>\n",
       "      <td>151</td>\n",
       "      <td>시청</td>\n",
       "      <td>30</td>\n",
       "      <td>1</td>\n",
       "      <td>1,557</td>\n",
       "      <td>3,131</td>\n",
       "      <td>2,914</td>\n",
       "      <td>15,686</td>\n",
       "      <td>...</td>\n",
       "      <td>1,755</td>\n",
       "      <td>5</td>\n",
       "      <td>143</td>\n",
       "      <td>0</td>\n",
       "      <td>1</td>\n",
       "      <td>0</td>\n",
       "      <td>1</td>\n",
       "      <td>0</td>\n",
       "      <td>0</td>\n",
       "      <td>2020-06-03 11:49:09</td>\n",
       "    </tr>\n",
       "    <tr>\n",
       "      <th>1</th>\n",
       "      <td>2020-05</td>\n",
       "      <td>1호선</td>\n",
       "      <td>152</td>\n",
       "      <td>종각</td>\n",
       "      <td>75</td>\n",
       "      <td>4</td>\n",
       "      <td>3,014</td>\n",
       "      <td>4,160</td>\n",
       "      <td>3,319</td>\n",
       "      <td>23,724</td>\n",
       "      <td>...</td>\n",
       "      <td>2,735</td>\n",
       "      <td>58</td>\n",
       "      <td>161</td>\n",
       "      <td>0</td>\n",
       "      <td>0</td>\n",
       "      <td>0</td>\n",
       "      <td>1</td>\n",
       "      <td>0</td>\n",
       "      <td>0</td>\n",
       "      <td>2020-06-03 11:49:09</td>\n",
       "    </tr>\n",
       "    <tr>\n",
       "      <th>2</th>\n",
       "      <td>2020-05</td>\n",
       "      <td>1호선</td>\n",
       "      <td>153</td>\n",
       "      <td>종로3가</td>\n",
       "      <td>201</td>\n",
       "      <td>22</td>\n",
       "      <td>4,118</td>\n",
       "      <td>2,484</td>\n",
       "      <td>3,435</td>\n",
       "      <td>12,520</td>\n",
       "      <td>...</td>\n",
       "      <td>3,525</td>\n",
       "      <td>53</td>\n",
       "      <td>698</td>\n",
       "      <td>0</td>\n",
       "      <td>0</td>\n",
       "      <td>0</td>\n",
       "      <td>0</td>\n",
       "      <td>0</td>\n",
       "      <td>0</td>\n",
       "      <td>2020-06-03 11:49:09</td>\n",
       "    </tr>\n",
       "    <tr>\n",
       "      <th>3</th>\n",
       "      <td>2020-05</td>\n",
       "      <td>1호선</td>\n",
       "      <td>154</td>\n",
       "      <td>종로5가</td>\n",
       "      <td>29</td>\n",
       "      <td>1</td>\n",
       "      <td>1,708</td>\n",
       "      <td>3,562</td>\n",
       "      <td>2,587</td>\n",
       "      <td>15,233</td>\n",
       "      <td>...</td>\n",
       "      <td>2,131</td>\n",
       "      <td>15</td>\n",
       "      <td>290</td>\n",
       "      <td>0</td>\n",
       "      <td>1</td>\n",
       "      <td>0</td>\n",
       "      <td>0</td>\n",
       "      <td>0</td>\n",
       "      <td>0</td>\n",
       "      <td>2020-06-03 11:49:09</td>\n",
       "    </tr>\n",
       "    <tr>\n",
       "      <th>4</th>\n",
       "      <td>2020-05</td>\n",
       "      <td>1호선</td>\n",
       "      <td>155</td>\n",
       "      <td>동대문</td>\n",
       "      <td>620</td>\n",
       "      <td>13</td>\n",
       "      <td>13,095</td>\n",
       "      <td>2,198</td>\n",
       "      <td>9,135</td>\n",
       "      <td>7,173</td>\n",
       "      <td>...</td>\n",
       "      <td>10,298</td>\n",
       "      <td>25</td>\n",
       "      <td>1,012</td>\n",
       "      <td>0</td>\n",
       "      <td>0</td>\n",
       "      <td>0</td>\n",
       "      <td>0</td>\n",
       "      <td>0</td>\n",
       "      <td>0</td>\n",
       "      <td>2020-06-03 11:49:09</td>\n",
       "    </tr>\n",
       "  </tbody>\n",
       "</table>\n",
       "<p>5 rows × 53 columns</p>\n",
       "</div>"
      ],
      "text/plain": [
       "   2020-05  1호선  0150   서울역  813  16   8,478  5,920 10,736  37,191  ...  \\\n",
       "0  2020-05  1호선   151    시청   30   1   1,557  3,131  2,914  15,686  ...   \n",
       "1  2020-05  1호선   152    종각   75   4   3,014  4,160  3,319  23,724  ...   \n",
       "2  2020-05  1호선   153  종로3가  201  22   4,118  2,484  3,435  12,520  ...   \n",
       "3  2020-05  1호선   154  종로5가   29   1   1,708  3,562  2,587  15,233  ...   \n",
       "4  2020-05  1호선   155   동대문  620  13  13,095  2,198  9,135   7,173  ...   \n",
       "\n",
       "   10,959  11  1,427  0 0.1 0.2 0.3 0.4 0.5  2020-06-03 11:49:09  \n",
       "0   1,755   5    143  0   1   0   1   0   0  2020-06-03 11:49:09  \n",
       "1   2,735  58    161  0   0   0   1   0   0  2020-06-03 11:49:09  \n",
       "2   3,525  53    698  0   0   0   0   0   0  2020-06-03 11:49:09  \n",
       "3   2,131  15    290  0   1   0   0   0   0  2020-06-03 11:49:09  \n",
       "4  10,298  25  1,012  0   0   0   0   0   0  2020-06-03 11:49:09  \n",
       "\n",
       "[5 rows x 53 columns]"
      ]
     },
     "execution_count": 168,
     "metadata": {},
     "output_type": "execute_result"
    }
   ],
   "source": [
    "df.head() # 표 형식으로 가져오기"
   ]
  },
  {
   "cell_type": "code",
   "execution_count": null,
   "metadata": {},
   "outputs": [],
   "source": []
  }
 ],
 "metadata": {
  "kernelspec": {
   "display_name": "Python 3",
   "language": "python",
   "name": "python3"
  },
  "language_info": {
   "codemirror_mode": {
    "name": "ipython",
    "version": 3
   },
   "file_extension": ".py",
   "mimetype": "text/x-python",
   "name": "python",
   "nbconvert_exporter": "python",
   "pygments_lexer": "ipython3",
   "version": "3.6.10"
  }
 },
 "nbformat": 4,
 "nbformat_minor": 4
}
