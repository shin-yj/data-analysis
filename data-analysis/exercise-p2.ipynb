{
 "cells": [
  {
   "cell_type": "code",
   "execution_count": 133,
   "metadata": {},
   "outputs": [],
   "source": [
    "import numpy as np\n",
    "import random\n",
    "import scipy as sp\n",
    "import scipy.stats\n",
    "import pandas as pd"
   ]
  },
  {
   "cell_type": "code",
   "execution_count": 130,
   "metadata": {},
   "outputs": [
    {
     "output_type": "execute_result",
     "data": {
      "text/plain": "array([ 87.,  28.,  33.,  77.,  82.,   8.,  22.,  32.,  80.,  59.,  15.,\n        22.,  45.,   5.,  31.,  26.,  33.,  88.,  48.,  54.,  16.,  49.,\n        53., 100.,  52.,  66.,  65.,  48.,  56.,  50.,  25.,  89.,  23.,\n        51.,  61.,  96.,  66.,  66.,  47.,  17.,  33.,  27.,  52.,   2.,\n        28.,  43.,  51.,  63.,  37.,  70.,  11.,  69.,  28.,  69.,   6.,\n        90.,  19.,  82.,  69.,  85.,  76.,  52.,  84.,  70.,  96.,   4.,\n        65.,   5.,  10.,  69.,  67.,  16.,  77.,  47.,  47.,  45.,  12.,\n         4.,  72.,  13.,  72.,   8.,  97.,  88.,  41.,  85.,  83.,  15.,\n        57.,   1.,  43.,  80.,  14.,  41.,  23.,  41.,   4.,  67.,  92.,\n        65.])"
     },
     "metadata": {},
     "execution_count": 130
    }
   ],
   "source": [
    "x = np.zeros(100)\n",
    "for idx in range(100):\n",
    "    x[idx] = random.randint(1, 100)\n",
    "x"
   ]
  },
  {
   "cell_type": "code",
   "execution_count": 131,
   "metadata": {
    "tags": []
   },
   "outputs": [
    {
     "output_type": "stream",
     "name": "stdout",
     "text": "100\n48.53\n48.53\n772.3690999999999\n27.791529285017763\n1.0\n100.0\n24.5\n49.5\n69.25\n"
    }
   ],
   "source": [
    "print(len(x)) # 데이터 갯수\n",
    "print(np.mean(x)) # 평균\n",
    "print(sum(x)/len(x)) # 평균\n",
    "print(np.var(x)) # 분산\n",
    "print(np.std(x)) # 표편\n",
    "print(np.min(x)) # 최소\n",
    "print(np.max(x)) # 최대\n",
    "print(np.percentile(x,25)) # 25%의 위치에 있는 데이터. 1사분위\n",
    "print(np.percentile(x,50))\n",
    "print(np.percentile(x,75))"
   ]
  },
  {
   "cell_type": "code",
   "execution_count": 134,
   "metadata": {
    "tags": []
   },
   "outputs": [
    {
     "output_type": "stream",
     "name": "stdout",
     "text": "DescribeResult(nobs=100, minmax=(1.0, 100.0), mean=48.53, variance=780.170808080808, skewness=-0.03238646317999492, kurtosis=-1.1417461545789107)\ncount    100.000000\nmean      48.530000\nstd       27.931538\nmin        1.000000\n25%       24.500000\n50%       49.500000\n75%       69.250000\nmax      100.000000\ndtype: float64\n"
    }
   ],
   "source": [
    "print(sp.stats.describe(x))\n",
    "print(pd.Series(x).describe()) # 위와 같음 , 더 자세함"
   ]
  },
  {
   "cell_type": "code",
   "execution_count": null,
   "metadata": {},
   "outputs": [],
   "source": []
  }
 ],
 "metadata": {
  "language_info": {
   "codemirror_mode": {
    "name": "ipython",
    "version": 3
   },
   "file_extension": ".py",
   "mimetype": "text/x-python",
   "name": "python",
   "nbconvert_exporter": "python",
   "pygments_lexer": "ipython3",
   "version": "3.6.10-final"
  },
  "orig_nbformat": 2,
  "kernelspec": {
   "name": "python361064bithoseoconda78849c8c42504bfc91e9e5131e728d2c",
   "display_name": "Python 3.6.10 64-bit ('hoseo': conda)"
  }
 },
 "nbformat": 4,
 "nbformat_minor": 2
}