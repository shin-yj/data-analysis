{
 "cells": [
  {
   "cell_type": "code",
   "execution_count": null,
   "metadata": {},
   "outputs": [],
   "source": [
    "# 네이버 영화 사이트에서 특정 일자의 영화 평점 순위 크롤링 해서 데이터프레임에 저장\n",
    "import numpy as np\n",
    "import pandas as pd\n",
    "import matplotlib.pyplot as plt\n",
    "import time\n",
    "import requests\n",
    "from bs4 import BeautifulSoup, NavigableString, Tag, Comment"
   ]
  },
  {
   "cell_type": "code",
   "execution_count": 26,
   "metadata": {},
   "outputs": [
    {
     "output_type": "error",
     "ename": "SyntaxError",
     "evalue": "invalid syntax (<ipython-input-26-590a1265ac48>, line 8)",
     "traceback": [
      "\u001b[1;36m  File \u001b[1;32m\"<ipython-input-26-590a1265ac48>\"\u001b[1;36m, line \u001b[1;32m8\u001b[0m\n\u001b[1;33m    resp =\u001b[0m\n\u001b[1;37m           ^\u001b[0m\n\u001b[1;31mSyntaxError\u001b[0m\u001b[1;31m:\u001b[0m invalid syntax\n"
     ]
    }
   ],
   "source": [
    "url = \"https://movie.naver.com/movie/sdb/rank/rmovie.nhn\"\n",
    "query = \"sel={0}&date={1}\"\n",
    "\n",
    "page= 1\n",
    "date = '20200701'\n",
    "movie_scores = []\n",
    "\n",
    "resp = requests.get()\n",
    "soup = BeautifulSoup()\n",
    "\n",
    "movie_list = soup.select(\"#cbody > .list_ranking > tbody\")\n",
    "print(movie_list)"
   ]
  },
  {
   "cell_type": "code",
   "execution_count": 22,
   "metadata": {},
   "outputs": [],
   "source": [
    "import time\n",
    "import requests\n",
    "from bs4 import BeautifulSoup"
   ]
  },
  {
   "cell_type": "code",
   "execution_count": 23,
   "metadata": {},
   "outputs": [],
   "source": [
    "# 선생님\n",
    "url = \"https://movie.naver.com/movie/sdb/rank/rmovie.nhn?sel=cur&date={0}\"# 날짜만 변수화\n",
    "\n",
    "date = \"20200630\"\n",
    "resp = requests.get(url.format(date))\n",
    "\n",
    "soup = BeautifulSoup(resp.text, 'html.parser')"
   ]
  },
  {
   "cell_type": "code",
   "execution_count": 24,
   "metadata": {},
   "outputs": [],
   "source": [
    "# resp.status_code : 200이면 정상"
   ]
  },
  {
   "cell_type": "code",
   "execution_count": 25,
   "metadata": {
    "tags": []
   },
   "outputs": [
    {
     "output_type": "execute_result",
     "data": {
      "text/plain": "    순위            영화명    평점  변동폭\n0    1         위대한 쇼맨  9.40    0\n1    2         에이리언 2  9.34    0\n2    3    패왕별희 디 오리지널  9.31    0\n3    4            우리들  9.26    0\n4    5            톰보이  9.24    0\n5    6         러빙 빈센트  9.22    0\n6    7          어느 가족  9.20    0\n7    8     시간을 달리는 소녀  9.20    0\n8    9           오아시스  9.20    0\n9   10        스타 이즈 본  9.18    0\n10  11           에이리언  9.12    0\n11  12           늑대아이  9.11    1\n12  13            싸이코  9.11    0\n13  14           박하사탕  9.05    0\n14  15    타오르는 여인의 초상  9.04    0\n15  16        미스비헤이비어  9.04    0\n16  17         비긴 어게인  9.02    0\n17  18         인생 후르츠  9.02    0\n18  19            미져리  9.01    0\n19  20            변호인  8.99    0\n20  21        배트맨 비긴즈  8.95    1\n21  22           윤희에게  8.95    1\n22  23       기쿠지로의 여름  8.94    0\n23  24              시  8.93    0\n24  25  마담 프루스트의 비밀정원  8.92    0\n25  26      트롤: 월드 투어  8.87    0\n26  27           드라큐라  8.86    0\n27  28       콜 오브 와일드  8.85    0\n28  29      슬럼독 밀리어네어  8.83    0\n29  30  온워드: 단 하루의 기적  8.82    0\n30  31        리틀 포레스트  8.80    0\n31  32             벌새  8.76    0\n32  33            도그빌  8.76    0\n33  34            현기증  8.73    0\n34  35        아메리칸 셰프  8.73    0\n35  36      바닷마을 다이어리  8.72    0\n36  37          썸머 워즈  8.67    0\n37  38      플로리다 프로젝트  8.63    0\n38  39        걸어도 걸어도  8.62    0\n39  40           라라랜드  8.60    0\n40  41       태풍이 지나가고  8.60    0\n41  42            플라이  8.60    0\n42  43     찬실이는 복도 많지  8.58    0\n43  44            족구왕  8.54    0\n44  45             캐리  8.46    0\n45  46       로렌스 애니웨이  8.42    1\n46  47          에어로너츠  8.39    1\n47  48     영웅: 천하의 시작  8.38    1\n48  49   그랜드 부다페스트 호텔  8.37    1\n49  50            스크림  8.36    1",
      "text/html": "<div>\n<style scoped>\n    .dataframe tbody tr th:only-of-type {\n        vertical-align: middle;\n    }\n\n    .dataframe tbody tr th {\n        vertical-align: top;\n    }\n\n    .dataframe thead th {\n        text-align: right;\n    }\n</style>\n<table border=\"1\" class=\"dataframe\">\n  <thead>\n    <tr style=\"text-align: right;\">\n      <th></th>\n      <th>순위</th>\n      <th>영화명</th>\n      <th>평점</th>\n      <th>변동폭</th>\n    </tr>\n  </thead>\n  <tbody>\n    <tr>\n      <th>0</th>\n      <td>1</td>\n      <td>위대한 쇼맨</td>\n      <td>9.40</td>\n      <td>0</td>\n    </tr>\n    <tr>\n      <th>1</th>\n      <td>2</td>\n      <td>에이리언 2</td>\n      <td>9.34</td>\n      <td>0</td>\n    </tr>\n    <tr>\n      <th>2</th>\n      <td>3</td>\n      <td>패왕별희 디 오리지널</td>\n      <td>9.31</td>\n      <td>0</td>\n    </tr>\n    <tr>\n      <th>3</th>\n      <td>4</td>\n      <td>우리들</td>\n      <td>9.26</td>\n      <td>0</td>\n    </tr>\n    <tr>\n      <th>4</th>\n      <td>5</td>\n      <td>톰보이</td>\n      <td>9.24</td>\n      <td>0</td>\n    </tr>\n    <tr>\n      <th>5</th>\n      <td>6</td>\n      <td>러빙 빈센트</td>\n      <td>9.22</td>\n      <td>0</td>\n    </tr>\n    <tr>\n      <th>6</th>\n      <td>7</td>\n      <td>어느 가족</td>\n      <td>9.20</td>\n      <td>0</td>\n    </tr>\n    <tr>\n      <th>7</th>\n      <td>8</td>\n      <td>시간을 달리는 소녀</td>\n      <td>9.20</td>\n      <td>0</td>\n    </tr>\n    <tr>\n      <th>8</th>\n      <td>9</td>\n      <td>오아시스</td>\n      <td>9.20</td>\n      <td>0</td>\n    </tr>\n    <tr>\n      <th>9</th>\n      <td>10</td>\n      <td>스타 이즈 본</td>\n      <td>9.18</td>\n      <td>0</td>\n    </tr>\n    <tr>\n      <th>10</th>\n      <td>11</td>\n      <td>에이리언</td>\n      <td>9.12</td>\n      <td>0</td>\n    </tr>\n    <tr>\n      <th>11</th>\n      <td>12</td>\n      <td>늑대아이</td>\n      <td>9.11</td>\n      <td>1</td>\n    </tr>\n    <tr>\n      <th>12</th>\n      <td>13</td>\n      <td>싸이코</td>\n      <td>9.11</td>\n      <td>0</td>\n    </tr>\n    <tr>\n      <th>13</th>\n      <td>14</td>\n      <td>박하사탕</td>\n      <td>9.05</td>\n      <td>0</td>\n    </tr>\n    <tr>\n      <th>14</th>\n      <td>15</td>\n      <td>타오르는 여인의 초상</td>\n      <td>9.04</td>\n      <td>0</td>\n    </tr>\n    <tr>\n      <th>15</th>\n      <td>16</td>\n      <td>미스비헤이비어</td>\n      <td>9.04</td>\n      <td>0</td>\n    </tr>\n    <tr>\n      <th>16</th>\n      <td>17</td>\n      <td>비긴 어게인</td>\n      <td>9.02</td>\n      <td>0</td>\n    </tr>\n    <tr>\n      <th>17</th>\n      <td>18</td>\n      <td>인생 후르츠</td>\n      <td>9.02</td>\n      <td>0</td>\n    </tr>\n    <tr>\n      <th>18</th>\n      <td>19</td>\n      <td>미져리</td>\n      <td>9.01</td>\n      <td>0</td>\n    </tr>\n    <tr>\n      <th>19</th>\n      <td>20</td>\n      <td>변호인</td>\n      <td>8.99</td>\n      <td>0</td>\n    </tr>\n    <tr>\n      <th>20</th>\n      <td>21</td>\n      <td>배트맨 비긴즈</td>\n      <td>8.95</td>\n      <td>1</td>\n    </tr>\n    <tr>\n      <th>21</th>\n      <td>22</td>\n      <td>윤희에게</td>\n      <td>8.95</td>\n      <td>1</td>\n    </tr>\n    <tr>\n      <th>22</th>\n      <td>23</td>\n      <td>기쿠지로의 여름</td>\n      <td>8.94</td>\n      <td>0</td>\n    </tr>\n    <tr>\n      <th>23</th>\n      <td>24</td>\n      <td>시</td>\n      <td>8.93</td>\n      <td>0</td>\n    </tr>\n    <tr>\n      <th>24</th>\n      <td>25</td>\n      <td>마담 프루스트의 비밀정원</td>\n      <td>8.92</td>\n      <td>0</td>\n    </tr>\n    <tr>\n      <th>25</th>\n      <td>26</td>\n      <td>트롤: 월드 투어</td>\n      <td>8.87</td>\n      <td>0</td>\n    </tr>\n    <tr>\n      <th>26</th>\n      <td>27</td>\n      <td>드라큐라</td>\n      <td>8.86</td>\n      <td>0</td>\n    </tr>\n    <tr>\n      <th>27</th>\n      <td>28</td>\n      <td>콜 오브 와일드</td>\n      <td>8.85</td>\n      <td>0</td>\n    </tr>\n    <tr>\n      <th>28</th>\n      <td>29</td>\n      <td>슬럼독 밀리어네어</td>\n      <td>8.83</td>\n      <td>0</td>\n    </tr>\n    <tr>\n      <th>29</th>\n      <td>30</td>\n      <td>온워드: 단 하루의 기적</td>\n      <td>8.82</td>\n      <td>0</td>\n    </tr>\n    <tr>\n      <th>30</th>\n      <td>31</td>\n      <td>리틀 포레스트</td>\n      <td>8.80</td>\n      <td>0</td>\n    </tr>\n    <tr>\n      <th>31</th>\n      <td>32</td>\n      <td>벌새</td>\n      <td>8.76</td>\n      <td>0</td>\n    </tr>\n    <tr>\n      <th>32</th>\n      <td>33</td>\n      <td>도그빌</td>\n      <td>8.76</td>\n      <td>0</td>\n    </tr>\n    <tr>\n      <th>33</th>\n      <td>34</td>\n      <td>현기증</td>\n      <td>8.73</td>\n      <td>0</td>\n    </tr>\n    <tr>\n      <th>34</th>\n      <td>35</td>\n      <td>아메리칸 셰프</td>\n      <td>8.73</td>\n      <td>0</td>\n    </tr>\n    <tr>\n      <th>35</th>\n      <td>36</td>\n      <td>바닷마을 다이어리</td>\n      <td>8.72</td>\n      <td>0</td>\n    </tr>\n    <tr>\n      <th>36</th>\n      <td>37</td>\n      <td>썸머 워즈</td>\n      <td>8.67</td>\n      <td>0</td>\n    </tr>\n    <tr>\n      <th>37</th>\n      <td>38</td>\n      <td>플로리다 프로젝트</td>\n      <td>8.63</td>\n      <td>0</td>\n    </tr>\n    <tr>\n      <th>38</th>\n      <td>39</td>\n      <td>걸어도 걸어도</td>\n      <td>8.62</td>\n      <td>0</td>\n    </tr>\n    <tr>\n      <th>39</th>\n      <td>40</td>\n      <td>라라랜드</td>\n      <td>8.60</td>\n      <td>0</td>\n    </tr>\n    <tr>\n      <th>40</th>\n      <td>41</td>\n      <td>태풍이 지나가고</td>\n      <td>8.60</td>\n      <td>0</td>\n    </tr>\n    <tr>\n      <th>41</th>\n      <td>42</td>\n      <td>플라이</td>\n      <td>8.60</td>\n      <td>0</td>\n    </tr>\n    <tr>\n      <th>42</th>\n      <td>43</td>\n      <td>찬실이는 복도 많지</td>\n      <td>8.58</td>\n      <td>0</td>\n    </tr>\n    <tr>\n      <th>43</th>\n      <td>44</td>\n      <td>족구왕</td>\n      <td>8.54</td>\n      <td>0</td>\n    </tr>\n    <tr>\n      <th>44</th>\n      <td>45</td>\n      <td>캐리</td>\n      <td>8.46</td>\n      <td>0</td>\n    </tr>\n    <tr>\n      <th>45</th>\n      <td>46</td>\n      <td>로렌스 애니웨이</td>\n      <td>8.42</td>\n      <td>1</td>\n    </tr>\n    <tr>\n      <th>46</th>\n      <td>47</td>\n      <td>에어로너츠</td>\n      <td>8.39</td>\n      <td>1</td>\n    </tr>\n    <tr>\n      <th>47</th>\n      <td>48</td>\n      <td>영웅: 천하의 시작</td>\n      <td>8.38</td>\n      <td>1</td>\n    </tr>\n    <tr>\n      <th>48</th>\n      <td>49</td>\n      <td>그랜드 부다페스트 호텔</td>\n      <td>8.37</td>\n      <td>1</td>\n    </tr>\n    <tr>\n      <th>49</th>\n      <td>50</td>\n      <td>스크림</td>\n      <td>8.36</td>\n      <td>1</td>\n    </tr>\n  </tbody>\n</table>\n</div>"
     },
     "metadata": {},
     "execution_count": 25
    }
   ],
   "source": [
    "trs = soup.select('table.list_ranking tbody tr')\n",
    "\n",
    "movies = []\n",
    "for tr in trs[1:]:\n",
    "    tds = tr.select('td')\n",
    "    if len(tds) > 1:\n",
    "        rank = int(tds[0].select_one('img')['alt'].lstrip('0')) #lstrip - 왼쪽에서 0지워라, strip 왼쪽오른쪽 다 지워라\n",
    "        title = tds[1].select_one('a').text.strip()\n",
    "        score = float(tds[3].text.strip())\n",
    "        if len(tds) == 7:\n",
    "            direction = tds[5].select_one('img')['alt']\n",
    "            sign = -1 if direction == 'down' else 1\n",
    "            delta = int(tds[6].text.strip()) * signs\n",
    "\n",
    "        elif len(tds) == 6:\n",
    "            delta = 0 # 51 - rank여도 괜찮\n",
    "        movies.append([rank, title, score, delta])\n",
    "\n",
    "# movies\n",
    "columns=['순위', '영화명', '평점', '변동폭']\n",
    "movies_df = pd.DataFrame(movies, columns=columns)\n",
    "movies_df"
   ]
  },
  {
   "cell_type": "code",
   "execution_count": null,
   "metadata": {},
   "outputs": [],
   "source": []
  },
  {
   "cell_type": "code",
   "execution_count": null,
   "metadata": {},
   "outputs": [],
   "source": []
  },
  {
   "cell_type": "code",
   "execution_count": null,
   "metadata": {},
   "outputs": [],
   "source": []
  },
  {
   "cell_type": "code",
   "execution_count": null,
   "metadata": {},
   "outputs": [],
   "source": []
  }
 ],
 "metadata": {
  "language_info": {
   "codemirror_mode": {
    "name": "ipython",
    "version": 3
   },
   "file_extension": ".py",
   "mimetype": "text/x-python",
   "name": "python",
   "nbconvert_exporter": "python",
   "pygments_lexer": "ipython3",
   "version": "3.6.10-final"
  },
  "orig_nbformat": 2,
  "kernelspec": {
   "name": "python361064bithoseoconda78849c8c42504bfc91e9e5131e728d2c",
   "display_name": "Python 3.6.10 64-bit ('hoseo': conda)"
  }
 },
 "nbformat": 4,
 "nbformat_minor": 2
}