{
 "cells": [
  {
   "cell_type": "code",
   "execution_count": 6,
   "metadata": {
    "tags": []
   },
   "outputs": [
    {
     "output_type": "stream",
     "name": "stdout",
     "text": "Collecting html5lib\n  Using cached html5lib-1.1-py2.py3-none-any.whl (112 kB)\nRequirement already satisfied: six>=1.9 in c:\\programdata\\miniconda3\\envs\\hoseo\\lib\\site-packages (from html5lib) (1.15.0)\nRequirement already satisfied: webencodings in c:\\programdata\\miniconda3\\envs\\hoseo\\lib\\site-packages (from html5lib) (0.5.1)\nInstalling collected packages: html5lib\nSuccessfully installed html5lib-1.1\n"
    }
   ],
   "source": [
    "# !pip install bs4\n",
    "# !pip install lxml\n",
    "# !pip install html5lib"
   ]
  },
  {
   "cell_type": "code",
   "execution_count": null,
   "metadata": {},
   "outputs": [],
   "source": [
    "from bs4 import BeautifulSoup"
   ]
  },
  {
   "cell_type": "code",
   "execution_count": null,
   "metadata": {},
   "outputs": [],
   "source": [
    "html_doc = \"\"\"<html><head><title>The Dormouse's story</title></head> \n",
    "<body>\n",
    "<p class=\"title\"><b>The Dormouse's story</b></p> \n",
    "<p class=\"story\">Once upon a time there were three little sisters; and\n",
    "their names were \n",
    "<a href=\"http://example.com/elsie\" class=\"sister\" id=\"link1\">Elsie</a>,\n",
    "<a href=\"http://example.com/lacie\" class=\"sister\" id=\"link2\">Lacie</a>\n",
    "and \n",
    "<a href=\"http://example.com/tillie\" class=\"sister\" id=\"link3\">Tillie</a>; and they lived at the bottom of a well.</p>\n",
    "<p class=\"story\">...</p>\"\"\"\n"
   ]
  },
  {
   "cell_type": "code",
   "execution_count": null,
   "metadata": {},
   "outputs": [],
   "source": [
    "soup = BeautifulSoup(html_doc, \"html.parser\") # 기본 파서"
   ]
  },
  {
   "cell_type": "code",
   "execution_count": null,
   "metadata": {},
   "outputs": [],
   "source": [
    "soup.prettify() # 원본 HTML을 표시"
   ]
  },
  {
   "cell_type": "code",
   "execution_count": null,
   "metadata": {},
   "outputs": [],
   "source": [
    "soup.title\n",
    "soup.title.name # title 객체의 name\n",
    "soup.title.text\n",
    "soup.title.string\n",
    "soup.p\n",
    "soup.p['class']\n",
    "soup.a\n",
    "soup.a.attrs # 리스트로 속성 모으기"
   ]
  },
  {
   "cell_type": "code",
   "execution_count": null,
   "metadata": {
    "tags": []
   },
   "outputs": [],
   "source": [
    "soup.find_all('a') # 모든 a 찾아줌~~~~~~~~\n",
    "# soup.find('a') # 첫번째 요소만\n",
    "links = soup.find_all('a')\n",
    "for link in links:\n",
    "    print(link.attrs['href'])"
   ]
  },
  {
   "cell_type": "code",
   "execution_count": null,
   "metadata": {},
   "outputs": [],
   "source": [
    "soup.get_text()"
   ]
  },
  {
   "cell_type": "code",
   "execution_count": 70,
   "metadata": {},
   "outputs": [],
   "source": [
    "from selenium import webdriver"
   ]
  },
  {
   "cell_type": "code",
   "execution_count": 72,
   "metadata": {},
   "outputs": [],
   "source": [
    "driver = webdriver.Chrome(r'C:\\YJ\\workspace\\chromedriver.exe')"
   ]
  },
  {
   "cell_type": "code",
   "execution_count": 77,
   "metadata": {},
   "outputs": [],
   "source": [
    "browser.get('https://datalab.naver.com/keyword/realtimeList.naver?entertainment=2&groupingLevel=4&marketing=2&news=2&sports=2&where=main')"
   ]
  },
  {
   "cell_type": "code",
   "execution_count": 55,
   "metadata": {},
   "outputs": [],
   "source": [
    "import time # interval 주기 위해 (중간 중간 쉬어야 다른 사람걸로 하지 않음)\n",
    "import requests # urllib(내장 패키지)와 비슷\n",
    "from bs4 import BeautifulSoup"
   ]
  },
  {
   "cell_type": "code",
   "execution_count": 78,
   "metadata": {},
   "outputs": [],
   "source": [
    "# resp.text[:500]\n",
    "soup = BeautifulSoup(browser.page_source, 'html.parser')\n"
   ]
  },
  {
   "cell_type": "code",
   "execution_count": 79,
   "metadata": {},
   "outputs": [],
   "source": [
    "ranks=soup.select('div.ranking_box ul li span.item_num')\n",
    "keywords = soup.select('div.ranking_box ul li span.item_title')"
   ]
  },
  {
   "cell_type": "code",
   "execution_count": 86,
   "metadata": {},
   "outputs": [
    {
     "output_type": "execute_result",
     "data": {
      "text/plain": "'3'"
     },
     "metadata": {},
     "execution_count": 86
    }
   ],
   "source": [
    "ranks[2].text\n",
    "# keywords"
   ]
  },
  {
   "cell_type": "code",
   "execution_count": 88,
   "metadata": {
    "tags": []
   },
   "outputs": [
    {
     "output_type": "stream",
     "name": "stdout",
     "text": "[1].[아토오겔]\n[2].[로스트아크]\n[3].[편의점 비말마스크]\n[4].[경기도 청소년 교통비 지원]\n[5].[우아한 거짓말]\n[6].[광주광역시청]\n[7].[평택 고덕 호반써밋2차]\n[8].[강경헌]\n[9].[아리따움 색다른 초대전]\n[10].[윤기원]\n[11].[아이비 아하]\n[12].[라이프치히]\n[13].[이순재]\n[14].[이인영]\n[15].[송지아]\n[16].[임종석]\n[17].[미스터 기간제]\n[18].[도리화가]\n[19].[폴더버거]\n[20].[캐시슬라이드초성퀴즈]\n"
    }
   ],
   "source": [
    "for rank, keyword in zip(ranks, keywords):\n",
    "    print(\"[{0}].[{1}]\".format(rank.text, keyword.text))"
   ]
  },
  {
   "cell_type": "code",
   "execution_count": 89,
   "metadata": {},
   "outputs": [],
   "source": [
    "browser.quit()"
   ]
  },
  {
   "cell_type": "code",
   "execution_count": null,
   "metadata": {},
   "outputs": [],
   "source": []
  },
  {
   "cell_type": "code",
   "execution_count": 90,
   "metadata": {},
   "outputs": [],
   "source": [
    "# https://dhlottery.co.kr/gameResult.do?method=byWin&drwNo=917\n",
    "# 위 주소에서 917회차 당첨번호(보너스 포함)를 추출해서 리스트에 저장하세요\n",
    "# requests 모듈과 Beautifulsoup 모듈을 사용하세요\n",
    "\n"
   ]
  },
  {
   "cell_type": "code",
   "execution_count": 7,
   "metadata": {},
   "outputs": [],
   "source": [
    "from bs4 import BeautifulSoup\n",
    "from selenium import webdriver"
   ]
  },
  {
   "cell_type": "code",
   "execution_count": 10,
   "metadata": {},
   "outputs": [],
   "source": [
    "driver = webdriver.Chrome(r'C:\\YJ\\workspace\\chromedriver.exe')"
   ]
  },
  {
   "cell_type": "code",
   "execution_count": 12,
   "metadata": {},
   "outputs": [],
   "source": [
    "browser = driver.get('https://dhlottery.co.kr/gameResult.do?method=byWin&drwNo=917')"
   ]
  },
  {
   "cell_type": "code",
   "execution_count": 2,
   "metadata": {},
   "outputs": [],
   "source": [
    "import time\n",
    "import requests\n",
    "\n"
   ]
  },
  {
   "cell_type": "code",
   "execution_count": 1,
   "metadata": {},
   "outputs": [],
   "source": [
    "import pandas as pd\n",
    "import numpy as np"
   ]
  },
  {
   "cell_type": "code",
   "execution_count": 14,
   "metadata": {},
   "outputs": [],
   "source": [
    "soup=BeautifulSoup(driver.page_source, 'html.parser')"
   ]
  },
  {
   "cell_type": "code",
   "execution_count": 36,
   "metadata": {},
   "outputs": [],
   "source": [
    "lucky_num = soup.select('div.win_result p span.ball_645 ')"
   ]
  },
  {
   "cell_type": "code",
   "execution_count": 43,
   "metadata": {},
   "outputs": [],
   "source": [
    "nums = {}\n",
    "for lucky_num in nums:\n",
    "    lucky_num += lucky_num \n",
    "    lucky_num[0].text"
   ]
  },
  {
   "cell_type": "code",
   "execution_count": 45,
   "metadata": {
    "tags": []
   },
   "outputs": [
    {
     "output_type": "stream",
     "name": "stdout",
     "text": "1\n"
    }
   ],
   "source": [
    "print(lucky_num[0].text)"
   ]
  },
  {
   "cell_type": "code",
   "execution_count": 19,
   "metadata": {},
   "outputs": [],
   "source": [
    "for lucky_num in nums:\n",
    "    lucky_num\n"
   ]
  },
  {
   "cell_type": "code",
   "execution_count": 58,
   "metadata": {},
   "outputs": [
    {
     "output_type": "execute_result",
     "data": {
      "text/plain": "[1, 34, 3, 34, 23, 34, 24, 34, 27, 34, 43, 34]"
     },
     "metadata": {},
     "execution_count": 58
    }
   ],
   "source": [
    "# 선생님\n",
    "resp = \\\n",
    "requests.get('https://dhlottery.co.kr/gameResult.do?method=byWin&drwNo=917')\n",
    "\n",
    "soup = BeautifulSoup(resp.text, \"html.parser\")\n",
    "\n",
    "num_wins = soup.select('div.nums .num.win span') # num win인경우 .num.win으로 해야함, span 데이터 읽어오기\n",
    "num_bonus = soup.select('div.nums .num.bonus span')\n",
    "\n",
    "winning_numbers = [] # 배열이므로 리스트 만들기\n",
    "for num_win in num_wins:\n",
    "     winning_numbers.append(int(num_win.text))\n",
    "     winning_numbers.append(int(num_bonus[0].text))\n",
    "\n",
    "winning_numbers"
   ]
  },
  {
   "cell_type": "code",
   "execution_count": null,
   "metadata": {},
   "outputs": [],
   "source": []
  },
  {
   "cell_type": "code",
   "execution_count": 59,
   "metadata": {},
   "outputs": [],
   "source": [
    "# https://dhlottery.co.kr/gameResult.do?method=byWin&drwNo=917\n",
    "# 위 주소에서 1회 ~ 917회차 당첨번호(보너스 포함)를 추출해서 데이터프레임에 저장하세요\n",
    "# 데이터 프레임의 행 : 회차번호 / 열 : 순서번호\n",
    "# requests 모듈과 Beautifulsoup 모듈을 사용하세요"
   ]
  },
  {
   "cell_type": "code",
   "execution_count": 60,
   "metadata": {},
   "outputs": [],
   "source": [
    "# 선생님\n",
    "url = 'https://dhlottery.co.kr/gameResult.do?method=byWin&drwNo={0}'\n",
    "all_winning_numbers = {}\n",
    "# for rnd in range(1, 917 + 1): # 15분 걸리므로 20개만\n",
    "for rnd in range(1, 20 + 1):\n",
    "    resp = requests.get(url.format(rnd))\n",
    "    soup = BeautifulSoup(resp.text, \"html.parser\")\n",
    "\n",
    "    num_wins = soup.select('div.nums .num.win span')\n",
    "    num_bonus = soup.select('div.nums .num.bonus span')\n",
    "\n",
    "    winning_numbers = []\n",
    "    for num_win in num_wins:\n",
    "        winning_numbers.append(int(num_win.text))\n",
    "    winning_numbers.append(int(num_bonus[0].text))\n",
    "\n",
    "    all_winning_numbers[rnd] = winning_numbers\n",
    "\n",
    "    time.sleep(0.5) # 0.5초\n",
    "\n"
   ]
  },
  {
   "cell_type": "code",
   "execution_count": 61,
   "metadata": {},
   "outputs": [
    {
     "output_type": "execute_result",
     "data": {
      "text/plain": "{1: [10, 23, 29, 33, 37, 40, 16],\n 2: [9, 13, 21, 25, 32, 42, 2],\n 3: [11, 16, 19, 21, 27, 31, 30],\n 4: [14, 27, 30, 31, 40, 42, 2],\n 5: [16, 24, 29, 40, 41, 42, 3],\n 6: [14, 15, 26, 27, 40, 42, 34],\n 7: [2, 9, 16, 25, 26, 40, 42],\n 8: [8, 19, 25, 34, 37, 39, 9],\n 9: [2, 4, 16, 17, 36, 39, 14],\n 10: [9, 25, 30, 33, 41, 44, 6],\n 11: [1, 7, 36, 37, 41, 42, 14],\n 12: [2, 11, 21, 25, 39, 45, 44],\n 13: [22, 23, 25, 37, 38, 42, 26],\n 14: [2, 6, 12, 31, 33, 40, 15],\n 15: [3, 4, 16, 30, 31, 37, 13],\n 16: [6, 7, 24, 37, 38, 40, 33],\n 17: [3, 4, 9, 17, 32, 37, 1],\n 18: [3, 12, 13, 19, 32, 35, 29],\n 19: [6, 30, 38, 39, 40, 43, 26],\n 20: [10, 14, 18, 20, 23, 30, 41]}"
     },
     "metadata": {},
     "execution_count": 61
    }
   ],
   "source": [
    "all_winning_numbers"
   ]
  },
  {
   "cell_type": "code",
   "execution_count": 63,
   "metadata": {},
   "outputs": [
    {
     "output_type": "execute_result",
     "data": {
      "text/plain": "   1   2   3   4   5   6   7   8   9   10  11  12  13  14  15  16  17  18  19  \\\n0  10   9  11  14  16  14   2   8   2   9   1   2  22   2   3   6   3   3   6   \n1  23  13  16  27  24  15   9  19   4  25   7  11  23   6   4   7   4  12  30   \n2  29  21  19  30  29  26  16  25  16  30  36  21  25  12  16  24   9  13  38   \n3  33  25  21  31  40  27  25  34  17  33  37  25  37  31  30  37  17  19  39   \n4  37  32  27  40  41  40  26  37  36  41  41  39  38  33  31  38  32  32  40   \n5  40  42  31  42  42  42  40  39  39  44  42  45  42  40  37  40  37  35  43   \n6  16   2  30   2   3  34  42   9  14   6  14  44  26  15  13  33   1  29  26   \n\n   20  \n0  10  \n1  14  \n2  18  \n3  20  \n4  23  \n5  30  \n6  41  ",
      "text/html": "<div>\n<style scoped>\n    .dataframe tbody tr th:only-of-type {\n        vertical-align: middle;\n    }\n\n    .dataframe tbody tr th {\n        vertical-align: top;\n    }\n\n    .dataframe thead th {\n        text-align: right;\n    }\n</style>\n<table border=\"1\" class=\"dataframe\">\n  <thead>\n    <tr style=\"text-align: right;\">\n      <th></th>\n      <th>1</th>\n      <th>2</th>\n      <th>3</th>\n      <th>4</th>\n      <th>5</th>\n      <th>6</th>\n      <th>7</th>\n      <th>8</th>\n      <th>9</th>\n      <th>10</th>\n      <th>11</th>\n      <th>12</th>\n      <th>13</th>\n      <th>14</th>\n      <th>15</th>\n      <th>16</th>\n      <th>17</th>\n      <th>18</th>\n      <th>19</th>\n      <th>20</th>\n    </tr>\n  </thead>\n  <tbody>\n    <tr>\n      <th>0</th>\n      <td>10</td>\n      <td>9</td>\n      <td>11</td>\n      <td>14</td>\n      <td>16</td>\n      <td>14</td>\n      <td>2</td>\n      <td>8</td>\n      <td>2</td>\n      <td>9</td>\n      <td>1</td>\n      <td>2</td>\n      <td>22</td>\n      <td>2</td>\n      <td>3</td>\n      <td>6</td>\n      <td>3</td>\n      <td>3</td>\n      <td>6</td>\n      <td>10</td>\n    </tr>\n    <tr>\n      <th>1</th>\n      <td>23</td>\n      <td>13</td>\n      <td>16</td>\n      <td>27</td>\n      <td>24</td>\n      <td>15</td>\n      <td>9</td>\n      <td>19</td>\n      <td>4</td>\n      <td>25</td>\n      <td>7</td>\n      <td>11</td>\n      <td>23</td>\n      <td>6</td>\n      <td>4</td>\n      <td>7</td>\n      <td>4</td>\n      <td>12</td>\n      <td>30</td>\n      <td>14</td>\n    </tr>\n    <tr>\n      <th>2</th>\n      <td>29</td>\n      <td>21</td>\n      <td>19</td>\n      <td>30</td>\n      <td>29</td>\n      <td>26</td>\n      <td>16</td>\n      <td>25</td>\n      <td>16</td>\n      <td>30</td>\n      <td>36</td>\n      <td>21</td>\n      <td>25</td>\n      <td>12</td>\n      <td>16</td>\n      <td>24</td>\n      <td>9</td>\n      <td>13</td>\n      <td>38</td>\n      <td>18</td>\n    </tr>\n    <tr>\n      <th>3</th>\n      <td>33</td>\n      <td>25</td>\n      <td>21</td>\n      <td>31</td>\n      <td>40</td>\n      <td>27</td>\n      <td>25</td>\n      <td>34</td>\n      <td>17</td>\n      <td>33</td>\n      <td>37</td>\n      <td>25</td>\n      <td>37</td>\n      <td>31</td>\n      <td>30</td>\n      <td>37</td>\n      <td>17</td>\n      <td>19</td>\n      <td>39</td>\n      <td>20</td>\n    </tr>\n    <tr>\n      <th>4</th>\n      <td>37</td>\n      <td>32</td>\n      <td>27</td>\n      <td>40</td>\n      <td>41</td>\n      <td>40</td>\n      <td>26</td>\n      <td>37</td>\n      <td>36</td>\n      <td>41</td>\n      <td>41</td>\n      <td>39</td>\n      <td>38</td>\n      <td>33</td>\n      <td>31</td>\n      <td>38</td>\n      <td>32</td>\n      <td>32</td>\n      <td>40</td>\n      <td>23</td>\n    </tr>\n    <tr>\n      <th>5</th>\n      <td>40</td>\n      <td>42</td>\n      <td>31</td>\n      <td>42</td>\n      <td>42</td>\n      <td>42</td>\n      <td>40</td>\n      <td>39</td>\n      <td>39</td>\n      <td>44</td>\n      <td>42</td>\n      <td>45</td>\n      <td>42</td>\n      <td>40</td>\n      <td>37</td>\n      <td>40</td>\n      <td>37</td>\n      <td>35</td>\n      <td>43</td>\n      <td>30</td>\n    </tr>\n    <tr>\n      <th>6</th>\n      <td>16</td>\n      <td>2</td>\n      <td>30</td>\n      <td>2</td>\n      <td>3</td>\n      <td>34</td>\n      <td>42</td>\n      <td>9</td>\n      <td>14</td>\n      <td>6</td>\n      <td>14</td>\n      <td>44</td>\n      <td>26</td>\n      <td>15</td>\n      <td>13</td>\n      <td>33</td>\n      <td>1</td>\n      <td>29</td>\n      <td>26</td>\n      <td>41</td>\n    </tr>\n  </tbody>\n</table>\n</div>"
     },
     "metadata": {},
     "execution_count": 63
    }
   ],
   "source": [
    "pd.DataFrame(all_winning_numbers)"
   ]
  },
  {
   "cell_type": "code",
   "execution_count": 66,
   "metadata": {},
   "outputs": [
    {
     "output_type": "execute_result",
     "data": {
      "text/plain": "      num1  num2  num3  num4  num5  num6  bonus\n1회차     10    23    29    33    37    40     16\n2회차      9    13    21    25    32    42      2\n3회차     11    16    19    21    27    31     30\n4회차     14    27    30    31    40    42      2\n5회차     16    24    29    40    41    42      3\n6회차     14    15    26    27    40    42     34\n7회차      2     9    16    25    26    40     42\n8회차      8    19    25    34    37    39      9\n9회차      2     4    16    17    36    39     14\n10회차     9    25    30    33    41    44      6\n11회차     1     7    36    37    41    42     14\n12회차     2    11    21    25    39    45     44\n13회차    22    23    25    37    38    42     26\n14회차     2     6    12    31    33    40     15\n15회차     3     4    16    30    31    37     13\n16회차     6     7    24    37    38    40     33\n17회차     3     4     9    17    32    37      1\n18회차     3    12    13    19    32    35     29\n19회차     6    30    38    39    40    43     26\n20회차    10    14    18    20    23    30     41",
      "text/html": "<div>\n<style scoped>\n    .dataframe tbody tr th:only-of-type {\n        vertical-align: middle;\n    }\n\n    .dataframe tbody tr th {\n        vertical-align: top;\n    }\n\n    .dataframe thead th {\n        text-align: right;\n    }\n</style>\n<table border=\"1\" class=\"dataframe\">\n  <thead>\n    <tr style=\"text-align: right;\">\n      <th></th>\n      <th>num1</th>\n      <th>num2</th>\n      <th>num3</th>\n      <th>num4</th>\n      <th>num5</th>\n      <th>num6</th>\n      <th>bonus</th>\n    </tr>\n  </thead>\n  <tbody>\n    <tr>\n      <th>1회차</th>\n      <td>10</td>\n      <td>23</td>\n      <td>29</td>\n      <td>33</td>\n      <td>37</td>\n      <td>40</td>\n      <td>16</td>\n    </tr>\n    <tr>\n      <th>2회차</th>\n      <td>9</td>\n      <td>13</td>\n      <td>21</td>\n      <td>25</td>\n      <td>32</td>\n      <td>42</td>\n      <td>2</td>\n    </tr>\n    <tr>\n      <th>3회차</th>\n      <td>11</td>\n      <td>16</td>\n      <td>19</td>\n      <td>21</td>\n      <td>27</td>\n      <td>31</td>\n      <td>30</td>\n    </tr>\n    <tr>\n      <th>4회차</th>\n      <td>14</td>\n      <td>27</td>\n      <td>30</td>\n      <td>31</td>\n      <td>40</td>\n      <td>42</td>\n      <td>2</td>\n    </tr>\n    <tr>\n      <th>5회차</th>\n      <td>16</td>\n      <td>24</td>\n      <td>29</td>\n      <td>40</td>\n      <td>41</td>\n      <td>42</td>\n      <td>3</td>\n    </tr>\n    <tr>\n      <th>6회차</th>\n      <td>14</td>\n      <td>15</td>\n      <td>26</td>\n      <td>27</td>\n      <td>40</td>\n      <td>42</td>\n      <td>34</td>\n    </tr>\n    <tr>\n      <th>7회차</th>\n      <td>2</td>\n      <td>9</td>\n      <td>16</td>\n      <td>25</td>\n      <td>26</td>\n      <td>40</td>\n      <td>42</td>\n    </tr>\n    <tr>\n      <th>8회차</th>\n      <td>8</td>\n      <td>19</td>\n      <td>25</td>\n      <td>34</td>\n      <td>37</td>\n      <td>39</td>\n      <td>9</td>\n    </tr>\n    <tr>\n      <th>9회차</th>\n      <td>2</td>\n      <td>4</td>\n      <td>16</td>\n      <td>17</td>\n      <td>36</td>\n      <td>39</td>\n      <td>14</td>\n    </tr>\n    <tr>\n      <th>10회차</th>\n      <td>9</td>\n      <td>25</td>\n      <td>30</td>\n      <td>33</td>\n      <td>41</td>\n      <td>44</td>\n      <td>6</td>\n    </tr>\n    <tr>\n      <th>11회차</th>\n      <td>1</td>\n      <td>7</td>\n      <td>36</td>\n      <td>37</td>\n      <td>41</td>\n      <td>42</td>\n      <td>14</td>\n    </tr>\n    <tr>\n      <th>12회차</th>\n      <td>2</td>\n      <td>11</td>\n      <td>21</td>\n      <td>25</td>\n      <td>39</td>\n      <td>45</td>\n      <td>44</td>\n    </tr>\n    <tr>\n      <th>13회차</th>\n      <td>22</td>\n      <td>23</td>\n      <td>25</td>\n      <td>37</td>\n      <td>38</td>\n      <td>42</td>\n      <td>26</td>\n    </tr>\n    <tr>\n      <th>14회차</th>\n      <td>2</td>\n      <td>6</td>\n      <td>12</td>\n      <td>31</td>\n      <td>33</td>\n      <td>40</td>\n      <td>15</td>\n    </tr>\n    <tr>\n      <th>15회차</th>\n      <td>3</td>\n      <td>4</td>\n      <td>16</td>\n      <td>30</td>\n      <td>31</td>\n      <td>37</td>\n      <td>13</td>\n    </tr>\n    <tr>\n      <th>16회차</th>\n      <td>6</td>\n      <td>7</td>\n      <td>24</td>\n      <td>37</td>\n      <td>38</td>\n      <td>40</td>\n      <td>33</td>\n    </tr>\n    <tr>\n      <th>17회차</th>\n      <td>3</td>\n      <td>4</td>\n      <td>9</td>\n      <td>17</td>\n      <td>32</td>\n      <td>37</td>\n      <td>1</td>\n    </tr>\n    <tr>\n      <th>18회차</th>\n      <td>3</td>\n      <td>12</td>\n      <td>13</td>\n      <td>19</td>\n      <td>32</td>\n      <td>35</td>\n      <td>29</td>\n    </tr>\n    <tr>\n      <th>19회차</th>\n      <td>6</td>\n      <td>30</td>\n      <td>38</td>\n      <td>39</td>\n      <td>40</td>\n      <td>43</td>\n      <td>26</td>\n    </tr>\n    <tr>\n      <th>20회차</th>\n      <td>10</td>\n      <td>14</td>\n      <td>18</td>\n      <td>20</td>\n      <td>23</td>\n      <td>30</td>\n      <td>41</td>\n    </tr>\n  </tbody>\n</table>\n</div>"
     },
     "metadata": {},
     "execution_count": 66
    }
   ],
   "source": [
    "all_winning_numbers_df = \\\n",
    "    pd.DataFrame(all_winning_numbers.values(), # values는 열 이름과 행 이름이 안맞을까바\n",
    "                 columns=['num1', 'num2', 'num3', \n",
    "                        'num4', 'num5', 'num6', 'bonus'], index=[str(rndx) + '회차' for rndx in all_winning_numbers.keys()]) # 열에 이름 주려면 [str(rndx) + '회차' for rndx in all_winning_numbers.keys()]를 넣는다\n",
    "# all_winning_numbers_df.T\n",
    "all_winning_numbers_df"
   ]
  },
  {
   "cell_type": "code",
   "execution_count": null,
   "metadata": {},
   "outputs": [],
   "source": []
  }
 ],
 "metadata": {
  "language_info": {
   "codemirror_mode": {
    "name": "ipython",
    "version": 3
   },
   "file_extension": ".py",
   "mimetype": "text/x-python",
   "name": "python",
   "nbconvert_exporter": "python",
   "pygments_lexer": "ipython3",
   "version": "3.6.10-final"
  },
  "orig_nbformat": 2,
  "kernelspec": {
   "name": "python361064bithoseoconda78849c8c42504bfc91e9e5131e728d2c",
   "display_name": "Python 3.6.10 64-bit ('hoseo': conda)"
  }
 },
 "nbformat": 4,
 "nbformat_minor": 2
}